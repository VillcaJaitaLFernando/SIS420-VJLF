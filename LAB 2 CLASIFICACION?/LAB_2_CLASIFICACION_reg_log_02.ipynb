{
  "cells": [
    {
      "cell_type": "markdown",
      "metadata": {
        "id": "9L0KhPHmJVNa"
      },
      "source": [
        "# **Laboratorio 2 - Regresión Logistica**\n",
        "***Univ. Villca Jaita Lino Fernando - Ing. Cs. de la Computación***\n",
        "\n",
        "En este ejercicio se implementa regresion logistica a un dataset que contiene un conjunto de datos sobre la satisfaccion de los pasajeros durante un vuelo en aerolineas considerando las siguientes caracteristicas:\n",
        "\n",
        "\n",
        "> **Datos de entrada** como: id,género,tipo de cliente,edad,tipo de viaje,clase,distancia de vuelo,servicio wifi a bordo,hora de salida/llegada conveniente,facilidad de reserva en línea,ubicación de la puerta de embarque,comida y bebida,embarque en línea,comodidad del asiento,entretenimiento a bordo, Servicio a bordo, Servicio de sala de piernas, Manejo de equipaje, Servicio de check-in, Servicio a bordo, Limpieza, Retraso de salida en minutos, Retraso de llegada en minutos.\n",
        "\n",
        "\n",
        "> **Dato de salida  (y a predecir):** **Satisfacción** (Satisfecho = 1 ) y (Neutral o insatisfecho = 0)\n",
        "\n",
        "\n",
        "\n",
        "> Nombre del Dataset: Airline Passenger Satisfaction\n",
        "*   URL del Dataset: https://www.kaggle.com/datasets/teejmahal20/airline-passenger-satisfaction\n",
        "*   Temática (lo que se quiere buscar con el dataset): Satisfaccion de los clientes con una Aerolinea\n",
        "*   Formato: csv\n",
        "\n",
        "**Consideraciones:** El dataset contiene dos archivos uno de entrenamiento y otro de test. utilizaremos solo el archivo de entrenamiento tanto para entrenar el modelo y realizar las pruebas como se plantea en el problema (80% y 20%).\n",
        "\n"
      ]
    },
    {
      "cell_type": "code",
      "source": [
        "from google.colab import drive\n",
        "drive.mount('/content/drive')"
      ],
      "metadata": {
        "colab": {
          "base_uri": "https://localhost:8080/"
        },
        "id": "z5PQZyiqJhUu",
        "outputId": "d2990bf6-fdd8-4ebc-c4ca-1bd23673f305"
      },
      "execution_count": 1,
      "outputs": [
        {
          "output_type": "stream",
          "name": "stdout",
          "text": [
            "Mounted at /content/drive\n"
          ]
        }
      ]
    },
    {
      "cell_type": "code",
      "execution_count": 2,
      "metadata": {
        "id": "Eg6cIE74JVNd"
      },
      "outputs": [],
      "source": [
        "# se utiliza para el manejo de rutas y directorios.\n",
        "import os\n",
        "\n",
        "# Calculo cientifico y vectorial para python\n",
        "import numpy as np\n",
        "\n",
        "# Librerias para graficar\n",
        "from matplotlib import pyplot\n",
        "\n",
        "# Modulo de optimización de scipy\n",
        "from scipy import optimize\n",
        "\n",
        "# le dice a matplotlib que incruste gráficos en el cuaderno\n",
        "%matplotlib inline"
      ]
    },
    {
      "cell_type": "markdown",
      "metadata": {
        "id": "t52vBnb_JVNe"
      },
      "source": [
        "## 1 Cargamos los datos desde nuestro Google Drive"
      ]
    },
    {
      "cell_type": "code",
      "source": [
        "#Importamos la libreria pandas para poder manipular nuestros datos que son literales y poder cambiarlos a numericos\n",
        "import pandas as pd\n",
        "\n",
        "# Cargar el dataset\n",
        "data = pd.read_csv('/content/drive/MyDrive/SIS 420 INTELIGENCIA ARTIFICAL 2024/MIS DATASETS/LAB 2 DATASETS/airline passenger satisfaction/train.csv', delimiter=',')\n",
        "\n",
        "# Verificar el tipo de datos\n",
        "print(data.dtypes)"
      ],
      "metadata": {
        "colab": {
          "base_uri": "https://localhost:8080/"
        },
        "id": "dVwQlX4CpPDC",
        "outputId": "bfff67f7-2255-4e8b-c9b8-0addceab8f88"
      },
      "execution_count": 8,
      "outputs": [
        {
          "output_type": "stream",
          "name": "stdout",
          "text": [
            "Unnamed: 0                             int64\n",
            "id                                     int64\n",
            "Gender                                object\n",
            "Customer Type                         object\n",
            "Age                                    int64\n",
            "Type of Travel                        object\n",
            "Class                                 object\n",
            "Flight Distance                        int64\n",
            "Inflight wifi service                  int64\n",
            "Departure/Arrival time convenient      int64\n",
            "Ease of Online booking                 int64\n",
            "Gate location                          int64\n",
            "Food and drink                         int64\n",
            "Online boarding                        int64\n",
            "Seat comfort                           int64\n",
            "Inflight entertainment                 int64\n",
            "On-board service                       int64\n",
            "Leg room service                       int64\n",
            "Baggage handling                       int64\n",
            "Checkin service                        int64\n",
            "Inflight service                       int64\n",
            "Cleanliness                            int64\n",
            "Departure Delay in Minutes             int64\n",
            "Arrival Delay in Minutes             float64\n",
            "satisfaction                          object\n",
            "dtype: object\n"
          ]
        }
      ]
    },
    {
      "cell_type": "code",
      "source": [
        "# Convertir columnas categóricas a numéricas (astype('category').cat.codes, convierte las categorías en valores numéricos únicos.)\n",
        "# Luego, cat.codes extrae estos códigos numéricos asignados a cada categoría.\n",
        "\n",
        "data['Gender'] = data['Gender'].astype('category').cat.codes\n",
        "data['Customer Type'] = data['Customer Type'].astype('category').cat.codes\n",
        "data['Type of Travel'] = data['Type of Travel'].astype('category').cat.codes\n",
        "data['Class'] = data['Class'].astype('category').cat.codes\n",
        "data['satisfaction'] = data['satisfaction'].astype('category').cat.codes\n",
        "\n",
        "# Verificar que las columnas categóricas se han convertido a numéricas\n",
        "print(data.head())\n",
        "print(data.dtypes)"
      ],
      "metadata": {
        "colab": {
          "base_uri": "https://localhost:8080/"
        },
        "id": "YMtlAJV0pct6",
        "outputId": "0d505369-44cc-4507-f261-739e431e1fbc"
      },
      "execution_count": 11,
      "outputs": [
        {
          "output_type": "stream",
          "name": "stdout",
          "text": [
            "   Unnamed: 0      id  Gender  Customer Type  Age  Type of Travel  Class  \\\n",
            "0           0   70172       1              0   13               1      2   \n",
            "1           1    5047       1              1   25               0      0   \n",
            "2           2  110028       0              0   26               0      0   \n",
            "3           3   24026       0              0   25               0      0   \n",
            "4           4  119299       1              0   61               0      0   \n",
            "\n",
            "   Flight Distance  Inflight wifi service  Departure/Arrival time convenient  \\\n",
            "0              460                      3                                  4   \n",
            "1              235                      3                                  2   \n",
            "2             1142                      2                                  2   \n",
            "3              562                      2                                  5   \n",
            "4              214                      3                                  3   \n",
            "\n",
            "   ...  Inflight entertainment  On-board service  Leg room service  \\\n",
            "0  ...                       5                 4                 3   \n",
            "1  ...                       1                 1                 5   \n",
            "2  ...                       5                 4                 3   \n",
            "3  ...                       2                 2                 5   \n",
            "4  ...                       3                 3                 4   \n",
            "\n",
            "   Baggage handling  Checkin service  Inflight service  Cleanliness  \\\n",
            "0                 4                4                 5            5   \n",
            "1                 3                1                 4            1   \n",
            "2                 4                4                 4            5   \n",
            "3                 3                1                 4            2   \n",
            "4                 4                3                 3            3   \n",
            "\n",
            "   Departure Delay in Minutes  Arrival Delay in Minutes  satisfaction  \n",
            "0                          25                      18.0             0  \n",
            "1                           1                       6.0             0  \n",
            "2                           0                       0.0             1  \n",
            "3                          11                       9.0             0  \n",
            "4                           0                       0.0             1  \n",
            "\n",
            "[5 rows x 25 columns]\n",
            "Unnamed: 0                             int64\n",
            "id                                     int64\n",
            "Gender                                  int8\n",
            "Customer Type                           int8\n",
            "Age                                    int64\n",
            "Type of Travel                          int8\n",
            "Class                                   int8\n",
            "Flight Distance                        int64\n",
            "Inflight wifi service                  int64\n",
            "Departure/Arrival time convenient      int64\n",
            "Ease of Online booking                 int64\n",
            "Gate location                          int64\n",
            "Food and drink                         int64\n",
            "Online boarding                        int64\n",
            "Seat comfort                           int64\n",
            "Inflight entertainment                 int64\n",
            "On-board service                       int64\n",
            "Leg room service                       int64\n",
            "Baggage handling                       int64\n",
            "Checkin service                        int64\n",
            "Inflight service                       int64\n",
            "Cleanliness                            int64\n",
            "Departure Delay in Minutes             int64\n",
            "Arrival Delay in Minutes             float64\n",
            "satisfaction                            int8\n",
            "dtype: object\n"
          ]
        }
      ]
    },
    {
      "cell_type": "code",
      "source": [
        "data.count()"
      ],
      "metadata": {
        "colab": {
          "base_uri": "https://localhost:8080/"
        },
        "id": "9jrGVxuFrzms",
        "outputId": "4af88f3b-34c7-4fe6-f920-e0bdbdcdb7de"
      },
      "execution_count": 12,
      "outputs": [
        {
          "output_type": "execute_result",
          "data": {
            "text/plain": [
              "Unnamed: 0                           103904\n",
              "id                                   103904\n",
              "Gender                               103904\n",
              "Customer Type                        103904\n",
              "Age                                  103904\n",
              "Type of Travel                       103904\n",
              "Class                                103904\n",
              "Flight Distance                      103904\n",
              "Inflight wifi service                103904\n",
              "Departure/Arrival time convenient    103904\n",
              "Ease of Online booking               103904\n",
              "Gate location                        103904\n",
              "Food and drink                       103904\n",
              "Online boarding                      103904\n",
              "Seat comfort                         103904\n",
              "Inflight entertainment               103904\n",
              "On-board service                     103904\n",
              "Leg room service                     103904\n",
              "Baggage handling                     103904\n",
              "Checkin service                      103904\n",
              "Inflight service                     103904\n",
              "Cleanliness                          103904\n",
              "Departure Delay in Minutes           103904\n",
              "Arrival Delay in Minutes             103594\n",
              "satisfaction                         103904\n",
              "dtype: int64"
            ]
          },
          "metadata": {},
          "execution_count": 12
        }
      ]
    },
    {
      "cell_type": "code",
      "source": [
        "# al ver el conteo de filas o de ejemplos del dataset, se puede observar que la columna\n",
        "# Arrival Delay in Minutes no tiene el mismo numero de datos porque tiene datos vacios\n",
        "# procederemos a eliminar estas filas para evitar errores.\n",
        "# Eliminar filas con valores faltantes en la columna 'Arrival Delay in Minutes'\n",
        "data = data.dropna(subset=['Arrival Delay in Minutes'])\n",
        "\n",
        "# Verificar las dimensiones después de eliminar las filas con valores faltantes\n",
        "print(data.shape)\n",
        "data.count()"
      ],
      "metadata": {
        "colab": {
          "base_uri": "https://localhost:8080/"
        },
        "id": "uJjBGX3usZEq",
        "outputId": "da7a966c-853e-4dfd-c207-0cffc61eb92d"
      },
      "execution_count": 15,
      "outputs": [
        {
          "output_type": "stream",
          "name": "stdout",
          "text": [
            "(103594, 25)\n"
          ]
        },
        {
          "output_type": "execute_result",
          "data": {
            "text/plain": [
              "Unnamed: 0                           103594\n",
              "id                                   103594\n",
              "Gender                               103594\n",
              "Customer Type                        103594\n",
              "Age                                  103594\n",
              "Type of Travel                       103594\n",
              "Class                                103594\n",
              "Flight Distance                      103594\n",
              "Inflight wifi service                103594\n",
              "Departure/Arrival time convenient    103594\n",
              "Ease of Online booking               103594\n",
              "Gate location                        103594\n",
              "Food and drink                       103594\n",
              "Online boarding                      103594\n",
              "Seat comfort                         103594\n",
              "Inflight entertainment               103594\n",
              "On-board service                     103594\n",
              "Leg room service                     103594\n",
              "Baggage handling                     103594\n",
              "Checkin service                      103594\n",
              "Inflight service                     103594\n",
              "Cleanliness                          103594\n",
              "Departure Delay in Minutes           103594\n",
              "Arrival Delay in Minutes             103594\n",
              "satisfaction                         103594\n",
              "dtype: int64"
            ]
          },
          "metadata": {},
          "execution_count": 15
        }
      ]
    },
    {
      "cell_type": "markdown",
      "source": [
        "Ahora nuestros ejemplos estan completos y contienes valores consistentes en cada una de sus columnas. Teniendo en total: 103594 ejemplos.\n",
        "De los cuales utilizaremos (82875 ejemplos (80%) para entrenamiento) y (20719 ejemplos (20%) para el test)."
      ],
      "metadata": {
        "id": "jNNO4mBstUKT"
      }
    },
    {
      "cell_type": "code",
      "execution_count": 17,
      "metadata": {
        "colab": {
          "base_uri": "https://localhost:8080/"
        },
        "id": "WVzUelTXJVNe",
        "outputId": "818de0b4-7ada-4ae3-fc23-14dc0a3cedf9"
      },
      "outputs": [
        {
          "output_type": "stream",
          "name": "stdout",
          "text": [
            "           id  Gender  Customer Type  Age  Type of Travel  Class  \\\n",
            "0       70172       1              0   13               1      2   \n",
            "1        5047       1              1   25               0      0   \n",
            "2      110028       0              0   26               0      0   \n",
            "3       24026       0              0   25               0      0   \n",
            "4      119299       1              0   61               0      0   \n",
            "...       ...     ...            ...  ...             ...    ...   \n",
            "83115  105101       0              0   45               0      0   \n",
            "83116   82823       0              1   28               0      0   \n",
            "83117   42651       0              0   18               0      2   \n",
            "83118  100217       0              0   12               1      1   \n",
            "83119   43092       1              0   70               1      1   \n",
            "\n",
            "       Flight Distance  Inflight wifi service  \\\n",
            "0                  460                      3   \n",
            "1                  235                      3   \n",
            "2                 1142                      2   \n",
            "3                  562                      2   \n",
            "4                  214                      3   \n",
            "...                ...                    ...   \n",
            "83115             2654                      3   \n",
            "83116              594                      4   \n",
            "83117              546                      3   \n",
            "83118              762                      3   \n",
            "83119              391                      4   \n",
            "\n",
            "       Departure/Arrival time convenient  Ease of Online booking  ...  \\\n",
            "0                                      4                       3  ...   \n",
            "1                                      2                       3  ...   \n",
            "2                                      2                       2  ...   \n",
            "3                                      5                       5  ...   \n",
            "4                                      3                       3  ...   \n",
            "...                                  ...                     ...  ...   \n",
            "83115                                  3                       5  ...   \n",
            "83116                                  4                       4  ...   \n",
            "83117                                  2                       2  ...   \n",
            "83118                                  5                       3  ...   \n",
            "83119                                  4                       4  ...   \n",
            "\n",
            "       Online boarding  Seat comfort  Inflight entertainment  \\\n",
            "0                    3             5                       5   \n",
            "1                    3             1                       1   \n",
            "2                    5             5                       5   \n",
            "3                    2             2                       2   \n",
            "4                    5             5                       3   \n",
            "...                ...           ...                     ...   \n",
            "83115                4             4                       5   \n",
            "83116                4             5                       5   \n",
            "83117                3             3                       3   \n",
            "83118                3             2                       2   \n",
            "83119                4             5                       5   \n",
            "\n",
            "       On-board service  Leg room service  Baggage handling  Checkin service  \\\n",
            "0                     4                 3                 4                4   \n",
            "1                     1                 5                 3                1   \n",
            "2                     4                 3                 4                4   \n",
            "3                     2                 5                 3                1   \n",
            "4                     3                 4                 4                3   \n",
            "...                 ...               ...               ...              ...   \n",
            "83115                 5                 5                 5                5   \n",
            "83116                 3                 3                 4                3   \n",
            "83117                 1                 5                 2                4   \n",
            "83118                 4                 4                 5                3   \n",
            "83119                 4                 4                 4                5   \n",
            "\n",
            "       Inflight service  Cleanliness  Departure Delay in Minutes  \n",
            "0                     5            5                          25  \n",
            "1                     4            1                           1  \n",
            "2                     4            5                           0  \n",
            "3                     4            2                          11  \n",
            "4                     3            3                           0  \n",
            "...                 ...          ...                         ...  \n",
            "83115                 5            5                           0  \n",
            "83116                 5            5                           1  \n",
            "83117                 3            3                          14  \n",
            "83118                 4            2                           0  \n",
            "83119                 4            5                           0  \n",
            "\n",
            "[82875 rows x 22 columns]\n",
            "0        18.0\n",
            "1         6.0\n",
            "2         0.0\n",
            "3         9.0\n",
            "4         0.0\n",
            "         ... \n",
            "83115     0.0\n",
            "83116     0.0\n",
            "83117    48.0\n",
            "83118    17.0\n",
            "83119     0.0\n",
            "Name: Arrival Delay in Minutes, Length: 82875, dtype: float64\n"
          ]
        }
      ],
      "source": [
        "# Realizamos la asignacion de datos correspondiente a cada dataset\n",
        "X_train, y_train = data.iloc[:82875, 1:23], data.iloc[:82875, 23]\n",
        "X_test, y_test = data.iloc[82875:, 1:23], data.iloc[82875:, 23]\n",
        "X = X_train\n",
        "y = y_train\n",
        "print(X)\n",
        "print(y)"
      ]
    },
    {
      "cell_type": "code",
      "execution_count": 21,
      "metadata": {
        "id": "pk9dV23xJVNh"
      },
      "outputs": [],
      "source": [
        "def sigmoid(z):\n",
        "    # Calcula la sigmoide de una entrada z\n",
        "    # convierte la intrada a un arreglo numpy\n",
        "    z = np.array(z)\n",
        "\n",
        "    g = np.zeros(z.shape)\n",
        "\n",
        "    g = 1 / (1 + np.exp(-z))\n",
        "\n",
        "    return g"
      ]
    },
    {
      "cell_type": "markdown",
      "metadata": {
        "id": "uRsBEhsWJVNh"
      },
      "source": [
        "Se calcula el valor de la sigmoide aplicando la funcion sigmoid con `z=0`, se debe obtener un resultado de 0.5. RE recomienda experimentar con otros valores de `z`."
      ]
    },
    {
      "cell_type": "code",
      "execution_count": 22,
      "metadata": {
        "colab": {
          "base_uri": "https://localhost:8080/"
        },
        "id": "uIPk61NLJVNh",
        "outputId": "2a970ff6-3f9c-433f-9afd-7c31bd516e0a"
      },
      "outputs": [
        {
          "output_type": "stream",
          "name": "stdout",
          "text": [
            "g( [0, 0.5, 1] ) =  [0.5        0.62245933 0.73105858]\n"
          ]
        }
      ],
      "source": [
        "# Prueba la implementacion de la funcion sigmoid\n",
        "z = [0, 0.5, 1]\n",
        "g = sigmoid(z)\n",
        "\n",
        "print('g(', z, ') = ', g)"
      ]
    },
    {
      "cell_type": "code",
      "source": [
        "def  featureNormalize(X):\n",
        "    X_norm = X.copy()\n",
        "    mu = np.zeros(X.shape[1])\n",
        "    sigma = np.zeros(X.shape[1])\n",
        "\n",
        "    mu = np.mean(X, axis = 0)\n",
        "    sigma = np.std(X, axis = 0)\n",
        "    X_norm = (X - mu) / sigma\n",
        "\n",
        "    return X_norm, mu, sigma"
      ],
      "metadata": {
        "id": "HWF5C5Jt8wNb"
      },
      "execution_count": 23,
      "outputs": []
    },
    {
      "cell_type": "code",
      "source": [
        "# llama featureNormalize con los datos cargados\n",
        "X_norm, mu, sigma = featureNormalize(X)"
      ],
      "metadata": {
        "id": "F-d-0BDK80lH"
      },
      "execution_count": 24,
      "outputs": []
    },
    {
      "cell_type": "markdown",
      "metadata": {
        "id": "tDl3_8hvJVNi"
      },
      "source": [
        "<a id=\"section2\"></a>\n",
        "#### 1.2.2 Función de Costo y Gradiente\n",
        "\n",
        "Se implementa la funcion cost y gradient, para la regresión logistica. Antes de continuar es importante agregar el termino de intercepcion a X."
      ]
    },
    {
      "cell_type": "code",
      "execution_count": 25,
      "metadata": {
        "id": "ELtMkiYDJVNi"
      },
      "outputs": [],
      "source": [
        "# Configurar la matriz adecuadamente, y agregar una columna de unos que corresponde al termino de intercepción.\n",
        "m, n = X.shape\n",
        "# Agraga el termino de intercepción a A\n",
        "X = np.concatenate([np.ones((m, 1)), X_norm], axis=1)\n",
        "# X = np.concatenate([np.ones((m, 1)), X], axis=1)"
      ]
    },
    {
      "cell_type": "markdown",
      "metadata": {
        "id": "dREHB51mJVNi"
      },
      "source": [
        "La funcion de costo en una regresión logistica es:\n",
        "\n",
        "$$ J(\\theta) = \\frac{1}{m} \\sum_{i=1}^{m} \\left[ -y^{(i)} \\log\\left(h_\\theta\\left( x^{(i)} \\right) \\right) - \\left( 1 - y^{(i)}\\right) \\log \\left( 1 - h_\\theta\\left( x^{(i)} \\right) \\right) \\right]$$\n",
        "\n",
        "y el gradiente del costo es un vector de la misma longitud como $\\theta$ donde el elemento $j^{th}$ (para $j = 0, 1, \\cdots , n$) se define como:\n",
        "\n",
        "$$ \\frac{\\partial J(\\theta)}{\\partial \\theta_j} = \\frac{1}{m} \\sum_{i=1}^m \\left( h_\\theta \\left( x^{(i)} \\right) - y^{(i)} \\right) x_j^{(i)} $$\n",
        "\n",
        "Si bien este gradiente parece idéntico al gradiente de regresión lineal, la fórmula es diferente porque la regresión lineal y logística tienen diferentes definiciones de $h_\\theta(x)$.\n",
        "<a id=\"costFunction\"></a>"
      ]
    },
    {
      "cell_type": "code",
      "execution_count": 26,
      "metadata": {
        "id": "iqDZRIgjJVNi"
      },
      "outputs": [],
      "source": [
        "def calcularCosto(theta, X, y):\n",
        "    # Inicializar algunos valores utiles\n",
        "    m = y.size  # numero de ejemplos de entrenamiento\n",
        "\n",
        "    J = 0\n",
        "    h = sigmoid(X.dot(theta.T))\n",
        "    J = (1 / m) * np.sum(-y.dot(np.log(h)) - (1 - y).dot(np.log(1 - h)))\n",
        "\n",
        "    return J"
      ]
    },
    {
      "cell_type": "code",
      "execution_count": 27,
      "metadata": {
        "id": "7G4SjTrwJVNi"
      },
      "outputs": [],
      "source": [
        "def descensoGradiente(theta, X, y, alpha, num_iters):\n",
        "    # Inicializa algunos valores\n",
        "    m = y.shape[0] # numero de ejemplos de entrenamiento\n",
        "\n",
        "    # realiza una copia de theta, el cual será acutalizada por el descenso por el gradiente\n",
        "    theta = theta.copy()\n",
        "    J_history = []\n",
        "\n",
        "    for i in range(num_iters):\n",
        "        h = sigmoid(X.dot(theta.T))\n",
        "        theta = theta - (alpha / m) * (h - y).dot(X)\n",
        "\n",
        "        J_history.append(calcularCosto(theta, X, y))\n",
        "    return theta, J_history"
      ]
    },
    {
      "cell_type": "code",
      "execution_count": null,
      "metadata": {
        "scrolled": true,
        "id": "rBUlehg6JVNi"
      },
      "outputs": [],
      "source": [
        "# Elegir algun valor para alpha (probar varias alternativas)\n",
        "alpha = 0.00001\n",
        "num_iters = 50000\n",
        "\n",
        "# inicializa theta y ejecuta el descenso por el gradiente\n",
        "theta = np.zeros(23)\n",
        "theta, J_history = descensoGradiente(theta, X, y, alpha, num_iters)\n",
        "\n",
        "# Grafica la convergencia del costo\n",
        "pyplot.plot(np.arange(len(J_history)), J_history, lw=2)\n",
        "pyplot.xlabel('Numero de iteraciones')\n",
        "pyplot.ylabel('Costo J')\n",
        "\n",
        "# Muestra los resultados del descenso por el gradiente\n",
        "print('theta calculado por el descenso por el gradiente: {:s}'.format(str(theta)))"
      ]
    },
    {
      "cell_type": "code",
      "source": [
        "print(X_test)\n",
        "print(theta)"
      ],
      "metadata": {
        "colab": {
          "base_uri": "https://localhost:8080/"
        },
        "id": "X0wA1m-yX0J2",
        "outputId": "feff3782-81a6-4e0a-b4e9-219af964af03"
      },
      "execution_count": 48,
      "outputs": [
        {
          "output_type": "stream",
          "name": "stdout",
          "text": [
            "            id  Gender  Customer Type  Age  Type of Travel  Class  \\\n",
            "83120   110198       0              0    8               0      2   \n",
            "83121     7747       0              1   25               0      0   \n",
            "83122   115704       0              0   57               0      0   \n",
            "83123    69899       0              1   24               0      0   \n",
            "83124   117106       1              0   39               0      0   \n",
            "...        ...     ...            ...  ...             ...    ...   \n",
            "103899   94171       0              1   23               0      1   \n",
            "103900   73097       1              0   49               0      0   \n",
            "103901   68825       1              1   30               0      0   \n",
            "103902   54173       0              1   22               0      1   \n",
            "103903   62567       1              0   27               0      0   \n",
            "\n",
            "        Flight Distance  Inflight wifi service  \\\n",
            "83120              1056                      3   \n",
            "83121              1013                      2   \n",
            "83122              1526                      3   \n",
            "83123               831                      0   \n",
            "83124              1500                      2   \n",
            "...                 ...                    ...   \n",
            "103899              192                      2   \n",
            "103900             2347                      4   \n",
            "103901             1995                      1   \n",
            "103902             1000                      1   \n",
            "103903             1723                      1   \n",
            "\n",
            "        Departure/Arrival time convenient  Ease of Online booking  ...  \\\n",
            "83120                                   5                       5  ...   \n",
            "83121                                   4                       2  ...   \n",
            "83122                                   3                       3  ...   \n",
            "83123                                   4                       0  ...   \n",
            "83124                                   4                       4  ...   \n",
            "...                                   ...                     ...  ...   \n",
            "103899                                  1                       2  ...   \n",
            "103900                                  4                       4  ...   \n",
            "103901                                  1                       1  ...   \n",
            "103902                                  1                       1  ...   \n",
            "103903                                  3                       3  ...   \n",
            "\n",
            "        Online boarding  Seat comfort  Inflight entertainment  \\\n",
            "83120                 3             2                       3   \n",
            "83121                 2             1                       3   \n",
            "83122                 4             4                       5   \n",
            "83123                 0             3                       3   \n",
            "83124                 3             4                       2   \n",
            "...                 ...           ...                     ...   \n",
            "103899                2             2                       2   \n",
            "103900                4             5                       5   \n",
            "103901                1             5                       4   \n",
            "103902                1             1                       1   \n",
            "103903                1             1                       1   \n",
            "\n",
            "        On-board service  Leg room service  Baggage handling  Checkin service  \\\n",
            "83120                  1                 4                 3                2   \n",
            "83121                  4                 5                 4                3   \n",
            "83122                  5                 5                 5                3   \n",
            "83123                  5                 3                 3                3   \n",
            "83124                  2                 2                 2                1   \n",
            "...                  ...               ...               ...              ...   \n",
            "103899                 3                 1                 4                2   \n",
            "103900                 5                 5                 5                5   \n",
            "103901                 3                 2                 4                5   \n",
            "103902                 4                 5                 1                5   \n",
            "103903                 1                 1                 4                4   \n",
            "\n",
            "        Inflight service  Cleanliness  Departure Delay in Minutes  \n",
            "83120                  3            3                          31  \n",
            "83121                  5            3                           0  \n",
            "83122                  5            5                           0  \n",
            "83123                  4            3                           0  \n",
            "83124                  2            4                          44  \n",
            "...                  ...          ...                         ...  \n",
            "103899                 3            2                           3  \n",
            "103900                 5            4                           0  \n",
            "103901                 5            4                           7  \n",
            "103902                 4            1                           0  \n",
            "103903                 3            1                           0  \n",
            "\n",
            "[20719 rows x 22 columns]\n",
            "[ 1.44989840e+01 -1.32079122e+00  1.17173051e-01  1.18832841e-01\n",
            " -4.63808838e-01 -3.06226631e-01  3.83085831e-01 -4.17273714e-04\n",
            " -6.82356498e-01  2.03802678e-02 -2.41678115e-01  1.86709202e-01\n",
            " -1.00037584e+00 -8.22571230e-01 -9.99263898e-01 -9.30865102e-01\n",
            " -1.26704081e+00  5.18812867e-01 -2.10815448e-01 -6.79721410e-01\n",
            " -2.17661481e+00 -4.37664078e-01  3.70469468e+01]\n"
          ]
        }
      ]
    },
    {
      "cell_type": "code",
      "source": [
        "def predecir(theta, X):\n",
        "    # Calcula las predicciones utilizando la función sigmoide\n",
        "    predictions = sigmoid(X.dot(theta))\n",
        "    return predictions\n",
        "\n",
        "# Normalizar las características del conjunto de prueba\n",
        "X_test_norm, _, _ = featureNormalize(X_test)\n",
        "\n",
        "# Agregar una columna de unos para el término de sesgo\n",
        "m_test, _ = X_test_norm.shape\n",
        "X_test_norm_with_bias = np.column_stack((np.ones(m_test), X_test_norm))\n",
        "\n",
        "# Realizar predicciones en los datos de prueba\n",
        "predictions_test = predecir(theta, X_test_norm_with_bias)\n",
        "\n",
        "# Ajustar las predicciones a 0 o 1 usando un umbral\n",
        "threshold = 0.5\n",
        "predicted_labels_test = (predictions_test > threshold).astype(int)\n",
        "\n",
        "# Calcular la precisión del modelo en los datos de prueba\n",
        "accuracy_test = np.mean(predicted_labels_test == y_test) * 100\n",
        "\n",
        "print('Precisión del modelo en los datos de prueba: {:.2f}%'.format(accuracy_test))\n",
        "\n",
        "\n"
      ],
      "metadata": {
        "colab": {
          "base_uri": "https://localhost:8080/"
        },
        "id": "vxYQW3em3B71",
        "outputId": "780ab00e-68cc-4839-a4f5-6530b231616a"
      },
      "execution_count": 50,
      "outputs": [
        {
          "output_type": "stream",
          "name": "stdout",
          "text": [
            "Precisión del modelo en los datos de prueba: 27.36%\n"
          ]
        }
      ]
    },
    {
      "cell_type": "code",
      "source": [
        "#Podemos ver las y_reales del dataset con las y_predichas por el modelo\n",
        "# Realiza las predicciones en el conjunto de prueba\n",
        "y_predichas = predecir(theta, X_test_norm)\n",
        "\n",
        "# Ajusta las predicciones a valores binarios (0 o 1) utilizando un umbral\n",
        "umbral = 0.5\n",
        "y_predichas_binarias = (y_predichas > umbral).astype(int)\n",
        "\n",
        "# Imprime las etiquetas reales y las etiquetas predichas\n",
        "print(\"Etiquetas reales:\")\n",
        "print(y_test.values)  # Imprime las etiquetas reales del conjunto de prueba\n",
        "print(\"\\nEtiquetas predichas:\")\n",
        "print(y_predichas_binarias)  # Imprime las etiquetas predichas"
      ],
      "metadata": {
        "id": "XAZaG4uZ71bW"
      },
      "execution_count": null,
      "outputs": []
    }
  ],
  "metadata": {
    "kernelspec": {
      "display_name": "Python 3",
      "language": "python",
      "name": "python3"
    },
    "language_info": {
      "codemirror_mode": {
        "name": "ipython",
        "version": 3
      },
      "file_extension": ".py",
      "mimetype": "text/x-python",
      "name": "python",
      "nbconvert_exporter": "python",
      "pygments_lexer": "ipython3",
      "version": "3.8.5"
    },
    "colab": {
      "provenance": []
    }
  },
  "nbformat": 4,
  "nbformat_minor": 0
}