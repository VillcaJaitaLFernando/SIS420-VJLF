{
  "cells": [
    {
      "cell_type": "markdown",
      "metadata": {
        "id": "tfwOfkjclHQx"
      },
      "source": [
        "## EXAMEN DE LABORATORIO REGRESION LINEAL MULTIPLE\n",
        "## Univ. Villca Jaita Lino Fernando - Ing. Cs. de la Computación\n",
        "\n",
        "En  este laboratorio utilizaremos el dataset: **Mars Asteroid Observation** que nos permitira predecir con conjunto de datos para predecir con precisión los días de observación (denominados 'data_arc' en los datos) necesarios para capturar las características del asteroide que cruza el planeta Marte..\n",
        "*   https://www.kaggle.com/datasets/sanskar457/observation-days-dataset/\n",
        "*   Formato: .csv\n",
        "\n"
      ]
    },
    {
      "cell_type": "code",
      "source": [
        "from google.colab import drive\n",
        "drive.mount('/content/drive')"
      ],
      "metadata": {
        "colab": {
          "base_uri": "https://localhost:8080/"
        },
        "id": "G29JVYU7H_8n",
        "outputId": "58930b3f-f893-4e1c-f942-e33a529ea442"
      },
      "execution_count": 2,
      "outputs": [
        {
          "output_type": "stream",
          "name": "stdout",
          "text": [
            "Drive already mounted at /content/drive; to attempt to forcibly remount, call drive.mount(\"/content/drive\", force_remount=True).\n"
          ]
        }
      ]
    },
    {
      "cell_type": "code",
      "execution_count": 3,
      "metadata": {
        "id": "f0WGMMljlHQz"
      },
      "outputs": [],
      "source": [
        "# utilizado para manejos de directorios y rutas\n",
        "import os\n",
        "\n",
        "# Computacion vectorial y cientifica para python\n",
        "import numpy as np\n",
        "\n",
        "# Librerias para graficación (trazado de gráficos)\n",
        "from matplotlib import pyplot\n",
        "from mpl_toolkits.mplot3d import Axes3D  # Necesario para graficar superficies 3D\n",
        "\n",
        "# llama a matplotlib a embeber graficas dentro de los cuadernillos\n",
        "%matplotlib inline\n",
        "\n",
        "#importando pandas para poder manejar nuestro dataset\n",
        "import pandas as pd"
      ]
    },
    {
      "cell_type": "code",
      "source": [
        "# Cargar el dataset\n",
        "#Importamos la libreria pandas para poder manipular nuestros datos que son literales y poder cambiarlos a numericos\n",
        "import pandas as pd\n",
        "\n",
        "# Cargar el dataset\n",
        "data = pd.read_csv('/content/drive/MyDrive/SIS 420 INTELIGENCIA ARTIFICAL 2024/EXAMEN LABORATORIO/final_observation_days.csv', delimiter=',')"
      ],
      "metadata": {
        "id": "wVqL-Vn70-Qv"
      },
      "execution_count": 4,
      "outputs": []
    },
    {
      "cell_type": "code",
      "source": [
        "#pd.set_option('display.max_columns', None)\n",
        "#data"
      ],
      "metadata": {
        "id": "KBtofIEV4H49"
      },
      "execution_count": 5,
      "outputs": []
    },
    {
      "cell_type": "code",
      "source": [
        "print(data)"
      ],
      "metadata": {
        "colab": {
          "base_uri": "https://localhost:8080/"
        },
        "id": "wXnRPJUv-rze",
        "outputId": "92fc286c-c2e0-4a5c-d2dd-7e101e1499cc"
      },
      "execution_count": 6,
      "outputs": [
        {
          "output_type": "stream",
          "name": "stdout",
          "text": [
            "          ID            full_name       sigma_e       sigma_a    sigma_i  \\\n",
            "0      11674           (2013 OV4)  5.756300e-08  1.605300e-08   0.000010   \n",
            "1      10222         (2011 QH117)  3.958900e-06  4.475300e-07   0.000021   \n",
            "2      15475         (2016 AQ193)  7.510200e-01  1.280000e+00  15.770000   \n",
            "3      11743          (2013 PB88)  1.572900e-07  1.930200e-07   0.000027   \n",
            "4       3226   380393 (2002 XL63)  5.860500e-08  1.539100e-08   0.000007   \n",
            "...      ...                  ...           ...           ...        ...   \n",
            "17995  13164         (2014 QF497)  1.123900e-07  1.888900e-08   0.000009   \n",
            "17996  16276          (2016 PS66)  1.326000e-06  7.625200e-09   0.000018   \n",
            "17997  19180           (2018 TJ2)  1.987300e-05  1.230400e-04   0.000223   \n",
            "17998  11119          (2012 UL61)  1.387300e-07  1.786900e-08   0.000016   \n",
            "17999   7671         (2005 UM157)  1.452500e-06  2.702400e-07   0.000070   \n",
            "\n",
            "       sigma_om    sigma_w   sigma_ma      sigma_ad       sigma_n  ...  \\\n",
            "0      0.000030   0.000035   0.000017  2.254200e-08  2.054500e-09  ...   \n",
            "1      0.000217   0.002209   0.001641  5.622000e-07  9.165300e-08  ...   \n",
            "2      4.632200  13.312000  90.643000  1.548700e+00  3.309800e-01  ...   \n",
            "3      0.000016   0.000186   0.000228  2.654700e-07  2.684700e-08  ...   \n",
            "4      0.000063   0.000064   0.000014  2.074800e-08  2.621900e-09  ...   \n",
            "...         ...        ...        ...           ...           ...  ...   \n",
            "17995  0.000077   0.000127   0.000066  2.339600e-08  4.075300e-09  ...   \n",
            "17996  0.000073   0.000734   0.000324  1.011400e-08  1.393500e-09  ...   \n",
            "17997  0.001945   0.009581   0.027074  1.747500e-04  1.575400e-05  ...   \n",
            "17998  0.000016   0.000085   0.000056  2.313300e-08  3.510600e-09  ...   \n",
            "17999  0.000046   0.002415   0.001005  3.758500e-07  3.448700e-08  ...   \n",
            "\n",
            "                w        ad         q     per_y  n_obs_used          ma  \\\n",
            "0      323.057654  3.736782  1.585411  4.341093         117  129.101981   \n",
            "1      322.595505  2.769871  1.639917  3.274085          18  255.757258   \n",
            "2      292.517373  2.430256  1.586762  2.846550           6   56.485758   \n",
            "3      272.252762  3.540067  1.607843  4.129615          34  109.396437   \n",
            "4      233.395947  3.199585  1.547266  3.656550         227  265.069228   \n",
            "...           ...       ...       ...       ...         ...         ...   \n",
            "17995  202.112756  2.674690  1.644201  3.173376          40  303.278158   \n",
            "17996  146.786010  3.060996  1.554372  3.505684          91    3.226310   \n",
            "17997  247.307191  3.778632  1.542648  4.339976          26   42.327759   \n",
            "17998   45.027991  2.902287  1.581377  3.356702          39   78.796599   \n",
            "17999    8.617316  3.705326  1.622955  4.348544          40   37.757502   \n",
            "\n",
            "       condition_code       H  epoch_mjd  data_arc  \n",
            "0                 0.0  17.590      60200    8139.0  \n",
            "1                 2.0  19.900      60200    3722.0  \n",
            "2                 9.0  20.288      57391       1.0  \n",
            "3                 1.0  18.320      60200    3515.0  \n",
            "4                 0.0  17.920      60200    7507.0  \n",
            "...               ...     ...        ...       ...  \n",
            "17995             0.0  19.990      60200    7975.0  \n",
            "17996             1.0  20.070      60200    5137.0  \n",
            "17997             5.0  20.300      60200      92.0  \n",
            "17998             0.0  19.700      60200    3663.0  \n",
            "17999             2.0  19.900      60200    4781.0  \n",
            "\n",
            "[18000 rows x 26 columns]\n"
          ]
        }
      ]
    },
    {
      "cell_type": "code",
      "source": [
        "print(data.dtypes)"
      ],
      "metadata": {
        "colab": {
          "base_uri": "https://localhost:8080/"
        },
        "id": "a48GYUJn4KV9",
        "outputId": "f5de80e1-cd39-409d-fddc-344771349d91"
      },
      "execution_count": 7,
      "outputs": [
        {
          "output_type": "stream",
          "name": "stdout",
          "text": [
            "ID                  int64\n",
            "full_name          object\n",
            "sigma_e           float64\n",
            "sigma_a           float64\n",
            "sigma_i           float64\n",
            "sigma_om          float64\n",
            "sigma_w           float64\n",
            "sigma_ma          float64\n",
            "sigma_ad          float64\n",
            "sigma_n           float64\n",
            "sigma_tp          float64\n",
            "sigma_per         float64\n",
            "a                 float64\n",
            "e                 float64\n",
            "i                 float64\n",
            "om                float64\n",
            "w                 float64\n",
            "ad                float64\n",
            "q                 float64\n",
            "per_y             float64\n",
            "n_obs_used          int64\n",
            "ma                float64\n",
            "condition_code    float64\n",
            "H                 float64\n",
            "epoch_mjd           int64\n",
            "data_arc          float64\n",
            "dtype: object\n"
          ]
        }
      ]
    },
    {
      "cell_type": "code",
      "source": [
        "# sigma_e, sigma_a, sigma_i, sigma_om, sigma_w, sigma_ma, sigma_ad, sigma_n, sigma_tp, sigma_per:\n",
        "# Son desviaciones estándar de diversas características observadas en años anteriores.\n",
        "columnas_a_eliminar = ['ID','full_name', 'epoch_mjd', 'condition_code']\n",
        "dataset = data.drop(columns=columnas_a_eliminar)\n",
        "#dataset"
      ],
      "metadata": {
        "id": "82wMkkmr4OB-"
      },
      "execution_count": 8,
      "outputs": []
    },
    {
      "cell_type": "code",
      "source": [
        "# Supongamos que df es tu DataFrame y quieres eliminar las columnas 'columna1' y 'columna2'\n",
        "# Id porque es innecesario considerar un identificador - full_name es un atributo de asignacion arbitraria\n",
        "# epoch_mjd: es el instante de tiempo en el que se utilizaron los vectores de posición y velocidad para calcular las características.\n",
        "# condition_code: Es un código que indica la calidad y fiabilidad de los datos orbitales del objeto.\n",
        "#columnas_a_eliminar = ['ID','full_name', 'epoch_mjd', 'condition_code']\n",
        "#dataset = data.drop(columns=columnas_a_eliminar)\n",
        "#dataset"
      ],
      "metadata": {
        "id": "oYdBSYb9rMvN"
      },
      "execution_count": 9,
      "outputs": []
    },
    {
      "cell_type": "code",
      "source": [
        "dataset.dtypes"
      ],
      "metadata": {
        "colab": {
          "base_uri": "https://localhost:8080/"
        },
        "id": "ONrwspwrsLF4",
        "outputId": "256110b2-674a-4360-f5c3-415f32f07236"
      },
      "execution_count": 10,
      "outputs": [
        {
          "output_type": "execute_result",
          "data": {
            "text/plain": [
              "sigma_e       float64\n",
              "sigma_a       float64\n",
              "sigma_i       float64\n",
              "sigma_om      float64\n",
              "sigma_w       float64\n",
              "sigma_ma      float64\n",
              "sigma_ad      float64\n",
              "sigma_n       float64\n",
              "sigma_tp      float64\n",
              "sigma_per     float64\n",
              "a             float64\n",
              "e             float64\n",
              "i             float64\n",
              "om            float64\n",
              "w             float64\n",
              "ad            float64\n",
              "q             float64\n",
              "per_y         float64\n",
              "n_obs_used      int64\n",
              "ma            float64\n",
              "H             float64\n",
              "data_arc      float64\n",
              "dtype: object"
            ]
          },
          "metadata": {},
          "execution_count": 10
        }
      ]
    },
    {
      "cell_type": "code",
      "source": [
        "#Elimina las filas donde haya campos vacios\n",
        "datasv = dataset.dropna()"
      ],
      "metadata": {
        "id": "eMVXGaQF4Umc"
      },
      "execution_count": 11,
      "outputs": []
    },
    {
      "cell_type": "code",
      "source": [
        "#mostramos los datos consistentes despues de eliminar.\n",
        "#datasv.count()"
      ],
      "metadata": {
        "id": "d2BNh1iR4RlN"
      },
      "execution_count": 12,
      "outputs": []
    },
    {
      "cell_type": "code",
      "source": [
        "#verificamos que todas las columnas esten en los tipos de datos correspondientes\n",
        "#print(datasv.dtypes) #Total 17722 ejemplos consistentes incluyendo a la y a predecir"
      ],
      "metadata": {
        "id": "GwuXJwPs4WqN"
      },
      "execution_count": 13,
      "outputs": []
    },
    {
      "cell_type": "markdown",
      "source": [
        "Asignacion de los datos a las variables"
      ],
      "metadata": {
        "id": "3MRLFOA_9GGO"
      }
    },
    {
      "cell_type": "code",
      "source": [
        "#muestra el numero de filas y columnas del dataset\n",
        "datasv.shape"
      ],
      "metadata": {
        "colab": {
          "base_uri": "https://localhost:8080/"
        },
        "id": "YIhFbdoR9kuX",
        "outputId": "0b740959-6716-4dc0-e340-0342c350370e"
      },
      "execution_count": 14,
      "outputs": [
        {
          "output_type": "execute_result",
          "data": {
            "text/plain": [
              "(17722, 22)"
            ]
          },
          "metadata": {},
          "execution_count": 14
        }
      ]
    },
    {
      "cell_type": "code",
      "source": [
        "#al ser 17722 ejemplos tomaremos el 80% que es 14178 y de entrenamiento el 20% restante que es 3544 ejemplos"
      ],
      "metadata": {
        "id": "jw7MgVPQmXC5"
      },
      "execution_count": 15,
      "outputs": []
    },
    {
      "cell_type": "code",
      "source": [
        "#ajustamos el dataset eliminas la ultima columna del dataset que es datesale (Fecha de venta porque en nuestro ejemplo no es importante considerar)\n",
        "#data.drop(columns=['saledate'], inplace=True)\n",
        "# Seleccionar las columnas deseadas en X\n",
        "X = datasv.iloc[:, :-1]\n",
        "X_test = datasv.iloc[14177:, :-1]\n",
        "\n",
        "\n",
        "# Seleccionar la columna 'data_arc' en y\n",
        "y = datasv.iloc[:, -1]\n",
        "y_test = datasv.iloc[14177:, -1]\n",
        "# Obtener el tamaño de y\n",
        "m = y.size\n",
        "\n",
        "print(X)\n",
        "print(y)\n",
        "print(m)"
      ],
      "metadata": {
        "colab": {
          "base_uri": "https://localhost:8080/"
        },
        "id": "fZdAbdH57Pv2",
        "outputId": "e9c5926f-cc05-47a3-9d61-2e98009a9dde"
      },
      "execution_count": 16,
      "outputs": [
        {
          "output_type": "stream",
          "name": "stdout",
          "text": [
            "            sigma_e       sigma_a    sigma_i  sigma_om    sigma_w   sigma_ma  \\\n",
            "0      5.756300e-08  1.605300e-08   0.000010  0.000030   0.000035   0.000017   \n",
            "1      3.958900e-06  4.475300e-07   0.000021  0.000217   0.002209   0.001641   \n",
            "2      7.510200e-01  1.280000e+00  15.770000  4.632200  13.312000  90.643000   \n",
            "3      1.572900e-07  1.930200e-07   0.000027  0.000016   0.000186   0.000228   \n",
            "4      5.860500e-08  1.539100e-08   0.000007  0.000063   0.000064   0.000014   \n",
            "...             ...           ...        ...       ...        ...        ...   \n",
            "17995  1.123900e-07  1.888900e-08   0.000009  0.000077   0.000127   0.000066   \n",
            "17996  1.326000e-06  7.625200e-09   0.000018  0.000073   0.000734   0.000324   \n",
            "17997  1.987300e-05  1.230400e-04   0.000223  0.001945   0.009581   0.027074   \n",
            "17998  1.387300e-07  1.786900e-08   0.000016  0.000016   0.000085   0.000056   \n",
            "17999  1.452500e-06  2.702400e-07   0.000070  0.000046   0.002415   0.001005   \n",
            "\n",
            "           sigma_ad       sigma_n    sigma_tp   sigma_per  ...         e  \\\n",
            "0      2.254200e-08  2.054500e-09    0.000069    0.000014  ...  0.404226   \n",
            "1      5.622000e-07  9.165300e-08    0.005551    0.000364  ...  0.256238   \n",
            "2      1.548700e+00  3.309800e-01  108.300000  993.850000  ...  0.209980   \n",
            "3      2.654700e-07  2.684700e-08    0.000905    0.000170  ...  0.375341   \n",
            "4      2.074800e-08  2.621900e-09    0.000053    0.000013  ...  0.348087   \n",
            "...             ...           ...         ...         ...  ...       ...   \n",
            "17995  2.339600e-08  4.075300e-09    0.000214    0.000015  ...  0.238600   \n",
            "17996  1.011400e-08  1.393500e-09    0.001153    0.000006  ...  0.326436   \n",
            "17997  1.747500e-04  1.575400e-05    0.106350    0.109960  ...  0.420197   \n",
            "17998  2.313300e-08  3.510600e-09    0.000187    0.000015  ...  0.294605   \n",
            "17999  3.758500e-07  3.448700e-08    0.004410    0.000242  ...  0.390815   \n",
            "\n",
            "               i          om           w        ad         q     per_y  \\\n",
            "0      12.657241  324.191505  323.057654  3.736782  1.585411  4.341093   \n",
            "1       2.769921  356.125107  322.595505  2.769871  1.639917  3.274085   \n",
            "2      34.363072   95.467069  292.517373  2.430256  1.586762  2.846550   \n",
            "3      28.214423  158.584789  272.252762  3.540067  1.607843  4.129615   \n",
            "4       3.392029  164.335304  233.395947  3.199585  1.547266  3.656550   \n",
            "...          ...         ...         ...       ...       ...       ...   \n",
            "17995   3.715732  157.191324  202.112756  2.674690  1.644201  3.173376   \n",
            "17996   3.086631  207.921649  146.786010  3.060996  1.554372  3.505684   \n",
            "17997   9.063175  151.214554  247.307191  3.778632  1.542648  4.339976   \n",
            "17998  22.196099    2.448497   45.027991  2.902287  1.581377  3.356702   \n",
            "17999   8.334647   46.444467    8.617316  3.705326  1.622955  4.348544   \n",
            "\n",
            "       n_obs_used          ma       H  \n",
            "0             117  129.101981  17.590  \n",
            "1              18  255.757258  19.900  \n",
            "2               6   56.485758  20.288  \n",
            "3              34  109.396437  18.320  \n",
            "4             227  265.069228  17.920  \n",
            "...           ...         ...     ...  \n",
            "17995          40  303.278158  19.990  \n",
            "17996          91    3.226310  20.070  \n",
            "17997          26   42.327759  20.300  \n",
            "17998          39   78.796599  19.700  \n",
            "17999          40   37.757502  19.900  \n",
            "\n",
            "[17722 rows x 21 columns]\n",
            "0        8139.0\n",
            "1        3722.0\n",
            "2           1.0\n",
            "3        3515.0\n",
            "4        7507.0\n",
            "          ...  \n",
            "17995    7975.0\n",
            "17996    5137.0\n",
            "17997      92.0\n",
            "17998    3663.0\n",
            "17999    4781.0\n",
            "Name: data_arc, Length: 17722, dtype: float64\n",
            "17722\n"
          ]
        }
      ]
    },
    {
      "cell_type": "code",
      "source": [
        "X.shape"
      ],
      "metadata": {
        "colab": {
          "base_uri": "https://localhost:8080/"
        },
        "id": "YR9ON8T-HlLq",
        "outputId": "21a2410e-12fa-4f20-e7f0-4197b9e44dd0"
      },
      "execution_count": 17,
      "outputs": [
        {
          "output_type": "execute_result",
          "data": {
            "text/plain": [
              "(17722, 21)"
            ]
          },
          "metadata": {},
          "execution_count": 17
        }
      ]
    },
    {
      "cell_type": "code",
      "execution_count": 18,
      "metadata": {
        "id": "7xFD8H3WlHQ1"
      },
      "outputs": [],
      "source": [
        "#normalizar es convertir a la misma escala los datos\n",
        "def  featureNormalize(X):\n",
        "    X_norm = X.copy()\n",
        "    mu = np.zeros(X.shape[1])\n",
        "    sigma = np.zeros(X.shape[1])\n",
        "\n",
        "    mu = np.mean(X, axis = 0)\n",
        "    sigma = np.std(X, axis = 0)\n",
        "    X_norm = (X - mu) / sigma\n",
        "\n",
        "    return X_norm, mu, sigma"
      ]
    },
    {
      "cell_type": "code",
      "execution_count": 19,
      "metadata": {
        "id": "ipL_QsTZlHQ2",
        "colab": {
          "base_uri": "https://localhost:8080/"
        },
        "outputId": "de089e8b-57da-42dc-e27e-ff0f70979208"
      },
      "outputs": [
        {
          "output_type": "stream",
          "name": "stdout",
          "text": [
            "            sigma_e       sigma_a    sigma_i  sigma_om    sigma_w   sigma_ma  \\\n",
            "0      5.756300e-08  1.605300e-08   0.000010  0.000030   0.000035   0.000017   \n",
            "1      3.958900e-06  4.475300e-07   0.000021  0.000217   0.002209   0.001641   \n",
            "2      7.510200e-01  1.280000e+00  15.770000  4.632200  13.312000  90.643000   \n",
            "3      1.572900e-07  1.930200e-07   0.000027  0.000016   0.000186   0.000228   \n",
            "4      5.860500e-08  1.539100e-08   0.000007  0.000063   0.000064   0.000014   \n",
            "...             ...           ...        ...       ...        ...        ...   \n",
            "17995  1.123900e-07  1.888900e-08   0.000009  0.000077   0.000127   0.000066   \n",
            "17996  1.326000e-06  7.625200e-09   0.000018  0.000073   0.000734   0.000324   \n",
            "17997  1.987300e-05  1.230400e-04   0.000223  0.001945   0.009581   0.027074   \n",
            "17998  1.387300e-07  1.786900e-08   0.000016  0.000016   0.000085   0.000056   \n",
            "17999  1.452500e-06  2.702400e-07   0.000070  0.000046   0.002415   0.001005   \n",
            "\n",
            "           sigma_ad       sigma_n    sigma_tp   sigma_per  ...         e  \\\n",
            "0      2.254200e-08  2.054500e-09    0.000069    0.000014  ...  0.404226   \n",
            "1      5.622000e-07  9.165300e-08    0.005551    0.000364  ...  0.256238   \n",
            "2      1.548700e+00  3.309800e-01  108.300000  993.850000  ...  0.209980   \n",
            "3      2.654700e-07  2.684700e-08    0.000905    0.000170  ...  0.375341   \n",
            "4      2.074800e-08  2.621900e-09    0.000053    0.000013  ...  0.348087   \n",
            "...             ...           ...         ...         ...  ...       ...   \n",
            "17995  2.339600e-08  4.075300e-09    0.000214    0.000015  ...  0.238600   \n",
            "17996  1.011400e-08  1.393500e-09    0.001153    0.000006  ...  0.326436   \n",
            "17997  1.747500e-04  1.575400e-05    0.106350    0.109960  ...  0.420197   \n",
            "17998  2.313300e-08  3.510600e-09    0.000187    0.000015  ...  0.294605   \n",
            "17999  3.758500e-07  3.448700e-08    0.004410    0.000242  ...  0.390815   \n",
            "\n",
            "               i          om           w        ad         q     per_y  \\\n",
            "0      12.657241  324.191505  323.057654  3.736782  1.585411  4.341093   \n",
            "1       2.769921  356.125107  322.595505  2.769871  1.639917  3.274085   \n",
            "2      34.363072   95.467069  292.517373  2.430256  1.586762  2.846550   \n",
            "3      28.214423  158.584789  272.252762  3.540067  1.607843  4.129615   \n",
            "4       3.392029  164.335304  233.395947  3.199585  1.547266  3.656550   \n",
            "...          ...         ...         ...       ...       ...       ...   \n",
            "17995   3.715732  157.191324  202.112756  2.674690  1.644201  3.173376   \n",
            "17996   3.086631  207.921649  146.786010  3.060996  1.554372  3.505684   \n",
            "17997   9.063175  151.214554  247.307191  3.778632  1.542648  4.339976   \n",
            "17998  22.196099    2.448497   45.027991  2.902287  1.581377  3.356702   \n",
            "17999   8.334647   46.444467    8.617316  3.705326  1.622955  4.348544   \n",
            "\n",
            "       n_obs_used          ma       H  \n",
            "0             117  129.101981  17.590  \n",
            "1              18  255.757258  19.900  \n",
            "2               6   56.485758  20.288  \n",
            "3              34  109.396437  18.320  \n",
            "4             227  265.069228  17.920  \n",
            "...           ...         ...     ...  \n",
            "17995          40  303.278158  19.990  \n",
            "17996          91    3.226310  20.070  \n",
            "17997          26   42.327759  20.300  \n",
            "17998          39   78.796599  19.700  \n",
            "17999          40   37.757502  19.900  \n",
            "\n",
            "[17722 rows x 21 columns]\n",
            "Media calculada: sigma_e          0.721676\n",
            "sigma_a          2.058010\n",
            "sigma_i          2.691536\n",
            "sigma_om        16.082575\n",
            "sigma_w         88.268844\n",
            "sigma_ma        46.693195\n",
            "sigma_ad         2.889101\n",
            "sigma_n          0.291712\n",
            "sigma_tp       124.090822\n",
            "sigma_per     1841.395199\n",
            "a                2.269403\n",
            "e                0.299169\n",
            "i               14.637539\n",
            "om             174.479463\n",
            "w              180.272565\n",
            "ad               2.981541\n",
            "q                1.557265\n",
            "per_y            3.444768\n",
            "n_obs_used     122.812775\n",
            "ma             178.763372\n",
            "H               18.957395\n",
            "dtype: float64\n",
            "Desviación estandar calculada: sigma_e           48.598695\n",
            "sigma_a          136.248161\n",
            "sigma_i          178.921719\n",
            "sigma_om         886.052525\n",
            "sigma_w         4688.619034\n",
            "sigma_ma        2775.044787\n",
            "sigma_ad         192.185751\n",
            "sigma_n           20.091610\n",
            "sigma_tp        6879.606002\n",
            "sigma_per     123106.750602\n",
            "a                  0.323071\n",
            "e                  0.112389\n",
            "i                  9.584026\n",
            "om               104.124407\n",
            "w                101.718887\n",
            "ad                 0.661641\n",
            "q                  0.098629\n",
            "per_y              0.734114\n",
            "n_obs_used       168.253639\n",
            "ma               108.788774\n",
            "H                  1.198905\n",
            "dtype: float64\n",
            "        sigma_e   sigma_a   sigma_i  sigma_om   sigma_w  sigma_ma  sigma_ad  \\\n",
            "0     -0.014850 -0.015105 -0.015043 -0.018151 -0.018826 -0.016826 -0.015033   \n",
            "1     -0.014850 -0.015105 -0.015043 -0.018151 -0.018826 -0.016826 -0.015033   \n",
            "2      0.000604 -0.005710  0.073096 -0.012923 -0.015987  0.015838 -0.006975   \n",
            "3     -0.014850 -0.015105 -0.015043 -0.018151 -0.018826 -0.016826 -0.015033   \n",
            "4     -0.014850 -0.015105 -0.015043 -0.018151 -0.018826 -0.016826 -0.015033   \n",
            "...         ...       ...       ...       ...       ...       ...       ...   \n",
            "17995 -0.014850 -0.015105 -0.015043 -0.018151 -0.018826 -0.016826 -0.015033   \n",
            "17996 -0.014850 -0.015105 -0.015043 -0.018151 -0.018826 -0.016826 -0.015033   \n",
            "17997 -0.014849 -0.015104 -0.015042 -0.018149 -0.018824 -0.016816 -0.015032   \n",
            "17998 -0.014850 -0.015105 -0.015043 -0.018151 -0.018826 -0.016826 -0.015033   \n",
            "17999 -0.014850 -0.015105 -0.015043 -0.018151 -0.018826 -0.016826 -0.015033   \n",
            "\n",
            "        sigma_n  sigma_tp  sigma_per  ...         e         i        om  \\\n",
            "0     -0.014519 -0.018037  -0.014958  ...  0.934768 -0.206625  1.437819   \n",
            "1     -0.014519 -0.018037  -0.014958  ... -0.381989 -1.238271  1.744506   \n",
            "2      0.001954 -0.002295  -0.006885  ... -0.793573  2.058168 -0.758827   \n",
            "3     -0.014519 -0.018037  -0.014958  ...  0.677758  1.416616 -0.152651   \n",
            "4     -0.014519 -0.018037  -0.014958  ...  0.435260 -1.173360 -0.097423   \n",
            "...         ...       ...        ...  ...       ...       ...       ...   \n",
            "17995 -0.014519 -0.018037  -0.014958  ... -0.538920 -1.139584 -0.166033   \n",
            "17996 -0.014519 -0.018037  -0.014958  ...  0.242617 -1.205225  0.321175   \n",
            "17997 -0.014518 -0.018022  -0.014957  ...  1.076866 -0.581631 -0.223434   \n",
            "17998 -0.014519 -0.018037  -0.014958  ... -0.040608  0.788662 -1.652168   \n",
            "17999 -0.014519 -0.018037  -0.014958  ...  0.815436 -0.657646 -1.229635   \n",
            "\n",
            "              w        ad         q     per_y  n_obs_used        ma         H  \n",
            "0      1.403722  1.141467  0.285369  1.220962   -0.034548 -0.456494 -1.140537  \n",
            "1      1.399179 -0.319916  0.838012 -0.232503   -0.622945  0.707737  0.786222  \n",
            "2      1.103480 -0.833208  0.299066 -0.814885   -0.694266 -1.123991  1.109851  \n",
            "3      0.904259  0.844153  0.512812  0.932890   -0.527851 -0.637630 -0.531648  \n",
            "4      0.522257  0.329550 -0.101380  0.288487    0.619227  0.793334 -0.865286  \n",
            "...         ...       ...       ...       ...         ...       ...       ...  \n",
            "17995  0.214711 -0.463772  0.881443 -0.369686   -0.492190  1.144555  0.861290  \n",
            "17996 -0.329207  0.120089 -0.029333  0.082978   -0.189076 -1.613559  0.928018  \n",
            "17997  0.659018  1.204719 -0.148204  1.219440   -0.575398 -1.254133  1.119860  \n",
            "17998 -1.329592 -0.119783  0.244471 -0.119962   -0.498134 -0.918907  0.619403  \n",
            "17999 -1.687545  1.093925  0.666026  1.231111   -0.492190 -1.296144  0.786222  \n",
            "\n",
            "[17722 rows x 21 columns]\n"
          ]
        }
      ],
      "source": [
        "# llama featureNormalize con los datos cargados\n",
        "X_norm, mu, sigma = featureNormalize(X)\n",
        "\n",
        "print(X)\n",
        "print('Media calculada:', mu)\n",
        "print('Desviación estandar calculada:', sigma)\n",
        "print(X_norm)"
      ]
    },
    {
      "cell_type": "markdown",
      "metadata": {
        "id": "it9bMYuLlHQ2"
      },
      "source": [
        "Despues de `featureNormalize` la funcion es provada, se añade el temino de interseccion a `X_norm`:"
      ]
    },
    {
      "cell_type": "code",
      "execution_count": 20,
      "metadata": {
        "id": "nNaGVxgolHQ2"
      },
      "outputs": [],
      "source": [
        "# Añade el termino de interseccion a X\n",
        "# (Columna de unos para X0)\n",
        "Xf = np.concatenate([np.ones((m, 1)), X_norm], axis=1)"
      ]
    },
    {
      "cell_type": "code",
      "source": [
        "Xf.shape"
      ],
      "metadata": {
        "colab": {
          "base_uri": "https://localhost:8080/"
        },
        "id": "oH9eYHsRq4CU",
        "outputId": "898a4673-69ea-48b9-8152-dbddcef1e7d4"
      },
      "execution_count": 21,
      "outputs": [
        {
          "output_type": "execute_result",
          "data": {
            "text/plain": [
              "(17722, 22)"
            ]
          },
          "metadata": {},
          "execution_count": 21
        }
      ]
    },
    {
      "cell_type": "code",
      "execution_count": 22,
      "metadata": {
        "id": "nbUVohnhlHQ3",
        "colab": {
          "base_uri": "https://localhost:8080/"
        },
        "outputId": "160bdaed-9796-4e37-fad8-34a73386e80d"
      },
      "outputs": [
        {
          "output_type": "stream",
          "name": "stdout",
          "text": [
            "[[ 1.00000000e+00 -1.48496885e-02 -1.51048668e-02 ... -3.45476932e-02\n",
            "  -4.56493711e-01 -1.14053718e+00]\n",
            " [ 1.00000000e+00 -1.48496082e-02 -1.51048636e-02 ... -6.22945072e-01\n",
            "   7.07737418e-01  7.86221789e-01]\n",
            " [ 1.00000000e+00  6.03811553e-04 -5.71024473e-03 ... -6.94265967e-01\n",
            "  -1.12399111e+00  1.10985057e+00]\n",
            " ...\n",
            " [ 1.00000000e+00 -1.48492808e-02 -1.51039639e-02 ... -5.75397809e-01\n",
            "  -1.25413320e+00  1.11985971e+00]\n",
            " [ 1.00000000e+00 -1.48496869e-02 -1.51048668e-02 ... -4.98133507e-01\n",
            "  -9.18907071e-01  6.19402831e-01]\n",
            " [ 1.00000000e+00 -1.48496598e-02 -1.51048649e-02 ... -4.92190099e-01\n",
            "  -1.29614357e+00  7.86221789e-01]]\n"
          ]
        }
      ],
      "source": [
        "print(Xf)"
      ]
    },
    {
      "cell_type": "code",
      "execution_count": 23,
      "metadata": {
        "id": "EQCMN7KqlHQ3"
      },
      "outputs": [],
      "source": [
        "def computeCostMulti(Xf, y, theta, lambda_):\n",
        "    # Inicializa algunos valores utiles\n",
        "    m = y.shape[0] # numero de ejemplos de entrenamiento\n",
        "\n",
        "    J = 0\n",
        "\n",
        "    h = np.dot(Xf, theta)\n",
        "\n",
        "    J = (1 / (2 * m)) * np.sum(np.square(np.dot(Xf, theta) - y)) + (lambda_ / (2 * m)) * np.sum(np.square(theta[1:]))\n",
        "\n",
        "    return J\n"
      ]
    },
    {
      "cell_type": "code",
      "execution_count": 24,
      "metadata": {
        "id": "Vdy_aQUklHQ4"
      },
      "outputs": [],
      "source": [
        "#alpha es el coeficiente de aprendizaje es cuanto aumento o resto del error que surge del costo para que la linea tienda a ser horizontal o palalelo al eje x,\n",
        "#por eso tiene un valor pequeño, que va incrementando o decrementando poco a poco.\n",
        "def gradientDescentMulti(Xf, y, theta, alpha, num_iters,lambda_):\n",
        "\n",
        "    # Inicializa algunos valores\n",
        "    m = y.shape[0] # numero de ejemplos de entrenamiento\n",
        "\n",
        "    # realiza una copia de theta, el cual será acutalizada por el descenso por el gradiente\n",
        "    theta = theta.copy()\n",
        "\n",
        "    J_history = []\n",
        "\n",
        "    for i in range(num_iters):\n",
        "        h = np.dot(Xf, theta)\n",
        "        theta = theta - (alpha / m) * (np.dot(Xf.T, (h - y))) - (alpha * lambda_ / m) * np.concatenate(([0], theta[1:]))  # Regularización\n",
        "        J_history.append(computeCostMulti(Xf, y, theta, lambda_))\n",
        "\n",
        "    return theta, J_history"
      ]
    },
    {
      "cell_type": "markdown",
      "metadata": {
        "id": "a8b_GwZslHQ4"
      },
      "source": [
        "#### 3.2.1 Seleccionando coheficientes de aprendizaje\n"
      ]
    },
    {
      "cell_type": "code",
      "source": [
        "datasv.shape"
      ],
      "metadata": {
        "colab": {
          "base_uri": "https://localhost:8080/"
        },
        "id": "gWVhm-1Z--5I",
        "outputId": "ce941977-27ba-43e0-fb70-29ee2a00ad08"
      },
      "execution_count": 28,
      "outputs": [
        {
          "output_type": "execute_result",
          "data": {
            "text/plain": [
              "(17722, 22)"
            ]
          },
          "metadata": {},
          "execution_count": 28
        }
      ]
    },
    {
      "cell_type": "code",
      "source": [
        "Xf.shape"
      ],
      "metadata": {
        "colab": {
          "base_uri": "https://localhost:8080/"
        },
        "id": "R-jQVURmqUmL",
        "outputId": "db1609de-e1ab-442f-ea70-aa5d52e74bbc"
      },
      "execution_count": 29,
      "outputs": [
        {
          "output_type": "execute_result",
          "data": {
            "text/plain": [
              "(17722, 22)"
            ]
          },
          "metadata": {},
          "execution_count": 29
        }
      ]
    },
    {
      "cell_type": "code",
      "execution_count": 30,
      "metadata": {
        "id": "sId0DiH9lHQ4",
        "colab": {
          "base_uri": "https://localhost:8080/",
          "height": 574
        },
        "outputId": "a79c2940-31d3-4393-e7b9-84d91a224e16"
      },
      "outputs": [
        {
          "output_type": "stream",
          "name": "stdout",
          "text": [
            "theta calculado por el descenso por el gradiente: [ 4.18440959e+03 -9.16617224e+00 -3.54921125e+00 -2.11047187e+01\n",
            "  1.51321128e+01  1.68070529e+01  1.09177476e+01 -2.19106833e+00\n",
            " -1.15139278e+01  4.26069432e-01 -2.19982924e+00 -1.53805770e+02\n",
            " -1.24167164e+02 -4.97686967e+02 -4.24062587e+01 -1.93218534e+01\n",
            " -1.65310282e+02  1.01344975e+02 -1.65681592e+02  7.61427811e+02\n",
            " -2.29375594e+01 -1.54171138e+03]\n"
          ]
        },
        {
          "output_type": "display_data",
          "data": {
            "text/plain": [
              "<Figure size 640x480 with 1 Axes>"
            ],
            "image/png": "[encoded data removed]"
          },
          "metadata": {}
        }
      ],
      "source": [
        "# Elegir algun valor para alpha (probar varias alternativas)\n",
        "alpha = 0.0001\n",
        "num_iters = 30000\n",
        "lambda_ = 0.1\n",
        "\n",
        "#0.0001 30000 0.1 ---> 54.41%\n",
        "\n",
        "# inicializa theta y ejecuta el descenso por el gradiente\n",
        "theta = np.zeros(22)\n",
        "\n",
        "theta, J_history = gradientDescentMulti(Xf, y, theta, alpha, num_iters, lambda_)\n",
        "\n",
        "# Grafica la convergencia del costo\n",
        "pyplot.plot(np.arange(len(J_history)), J_history, lw=2)\n",
        "pyplot.xlabel('Numero de iteraciones')\n",
        "pyplot.ylabel('Costo J')\n",
        "\n",
        "# Muestra los resultados del descenso por el gradiente\n",
        "print('theta calculado por el descenso por el gradiente: {:s}'.format(str(theta)))\n"
      ]
    },
    {
      "cell_type": "code",
      "source": [
        "#con nuestras thetas encontradas procedemos al prediccion\n",
        "# Calculamos las predicciones\n",
        "predic = np.dot(Xf, theta)\n",
        "\n",
        "# Calculamos el coeficiente de determinación (R^2)\n",
        "ssr = np.sum((predic - y.mean()) ** 2)  # Suma de los cuadrados de la regresión\n",
        "sst = np.sum((y - y.mean()) ** 2)  # Suma total de los cuadrados\n",
        "r_squared = 1 - (ssr / sst)\n",
        "\n",
        "# Convertimos R^2 a porcentaje\n",
        "precmod = r_squared * 100\n",
        "\n",
        "print('Precisión del modelo en el conjunto de entrenamiento: {:.2f}%'.format(precmod))"
      ],
      "metadata": {
        "colab": {
          "base_uri": "https://localhost:8080/"
        },
        "id": "O9uiiAB9sifN",
        "outputId": "3d7860f7-4a73-4c4c-b6eb-3cae07274341"
      },
      "execution_count": 31,
      "outputs": [
        {
          "output_type": "stream",
          "name": "stdout",
          "text": [
            "Precisión del modelo en el conjunto de entrenamiento: 54.60%\n"
          ]
        }
      ]
    },
    {
      "cell_type": "markdown",
      "source": [
        "HASTA AQUI EL ENTRENAMIENTO"
      ],
      "metadata": {
        "id": "In9uebNntiE1"
      }
    },
    {
      "cell_type": "markdown",
      "source": [
        "ENTRENAMIENTO"
      ],
      "metadata": {
        "id": "alMTobTKwBi8"
      }
    },
    {
      "cell_type": "code",
      "source": [
        "#tomamos los datos de test en la linea 14 del codigo\n",
        "# Tomamos los últimos 1000 ejemplos del dataset para realizar el test\n",
        "#X_test = datasv.iloc[-1000:, :-1]\n",
        "#y_test = datasv.iloc[-1000:, -1]"
      ],
      "metadata": {
        "id": "mb6YJifQwFsW"
      },
      "execution_count": 32,
      "outputs": []
    },
    {
      "cell_type": "code",
      "source": [
        "# Normalizamos los datos de test utilizando mu y sigma calculados previamente en los datos de entrenamiento\n",
        "X_test_norm = (X_test - mu) / sigma"
      ],
      "metadata": {
        "id": "aYGbMEwiwG43"
      },
      "execution_count": 33,
      "outputs": []
    },
    {
      "cell_type": "code",
      "source": [
        "# Añadimos el término de intersección a X_test\n",
        "X_test_f = np.concatenate([np.ones((X_test_norm.shape[0], 1)), X_test_norm], axis=1)\n"
      ],
      "metadata": {
        "id": "W1iFOzWvwLPH"
      },
      "execution_count": 34,
      "outputs": []
    },
    {
      "cell_type": "code",
      "source": [
        "# Calculamos las predicciones en el conjunto de test\n",
        "predic_test = np.dot(X_test_f, theta)"
      ],
      "metadata": {
        "id": "g4aRTIQqwN5W"
      },
      "execution_count": 35,
      "outputs": []
    },
    {
      "cell_type": "code",
      "source": [
        "# Calculamos el coeficiente de determinación (R^2) para evaluar la precisión en el conjunto de test\n",
        "ssr_test = np.sum((predic_test - y_test.mean()) ** 2)  # Suma de los cuadrados de la regresión\n",
        "sst_test = np.sum((y_test - y_test.mean()) ** 2)  # Suma total de los cuadrados\n",
        "r_squared_test = 1 - (ssr_test / sst_test)\n",
        "\n",
        "# Convertimos R^2 a porcentaje\n",
        "percentage_test = r_squared_test * 100\n",
        "\n",
        "print('Precisión del modelo en el conjunto de test: {:.2f}%'.format(percentage_test))"
      ],
      "metadata": {
        "colab": {
          "base_uri": "https://localhost:8080/"
        },
        "id": "ATmahHk-wP0u",
        "outputId": "27ce1aa7-c183-4008-ea68-0ae3c89aab83"
      },
      "execution_count": 36,
      "outputs": [
        {
          "output_type": "stream",
          "name": "stdout",
          "text": [
            "Precisión del modelo en el conjunto de test: 55.85%\n"
          ]
        }
      ]
    },
    {
      "cell_type": "markdown",
      "source": [
        "FIN ENTRENAMIENTO"
      ],
      "metadata": {
        "id": "LtNn0SgWwEB2"
      }
    },
    {
      "cell_type": "markdown",
      "source": [
        "IMPRESION DE RESULTADOS"
      ],
      "metadata": {
        "id": "65-4V6fzwwRe"
      }
    },
    {
      "cell_type": "code",
      "source": [
        "# Imprimimos los últimos valores reales de y_test\n",
        "print(\"Últimos 10 valores reales de y_test:\")\n",
        "print(y_test)\n",
        "\n",
        "# Imprimimos los últimos valores predichos\n",
        "print(\"\\nÚltimos 10 valores predichos:\")\n",
        "print(predic_test)\n"
      ],
      "metadata": {
        "colab": {
          "base_uri": "https://localhost:8080/"
        },
        "id": "CF2Ph4ggw00m",
        "outputId": "984ddbf7-9778-4ea5-c0a4-21ac6ada40d2"
      },
      "execution_count": 37,
      "outputs": [
        {
          "output_type": "stream",
          "name": "stdout",
          "text": [
            "Últimos 10 valores reales de y_test:\n",
            "14400    3594.0\n",
            "14401    4751.0\n",
            "14402    4738.0\n",
            "14403    2548.0\n",
            "14404    2631.0\n",
            "          ...  \n",
            "17995    7975.0\n",
            "17996    5137.0\n",
            "17997      92.0\n",
            "17998    3663.0\n",
            "17999    4781.0\n",
            "Name: data_arc, Length: 3545, dtype: float64\n",
            "\n",
            "Últimos 10 valores predichos:\n",
            "[4468.08566617 6995.06482195 5741.89515426 ... 1598.54149486 2657.07802791\n",
            " 2432.77003748]\n"
          ]
        }
      ]
    }
  ],
  "metadata": {
    "kernelspec": {
      "display_name": "Python 3",
      "language": "python",
      "name": "python3"
    },
    "language_info": {
      "codemirror_mode": {
        "name": "ipython",
        "version": 3
      },
      "file_extension": ".py",
      "mimetype": "text/x-python",
      "name": "python",
      "nbconvert_exporter": "python",
      "pygments_lexer": "ipython3",
      "version": "3.8.5"
    },
    "colab": {
      "provenance": []
    }
  },
  "nbformat": 4,
  "nbformat_minor": 0
}