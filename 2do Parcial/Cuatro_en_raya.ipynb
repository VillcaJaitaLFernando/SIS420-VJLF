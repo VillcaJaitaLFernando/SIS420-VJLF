{
  "cells": [
    {
      "cell_type": "code",
      "execution_count": 2,
      "metadata": {
        "id": "xeqmDhppELvp"
      },
      "outputs": [],
      "source": [
        "2do Parcial Inteligencia Artificial 1 (SIS420)\n",
        "\n",
        "Univ. Lino Fernando Villca Jaita (Ing. en Ciencias De La Computación)\n",
        "\n",
        "import numpy as np\n",
        "\n",
        "class Board():\n",
        "    def __init__(self):\n",
        "        self.state = np.zeros((6, 7))  # Tablero de 6 filas por 7 columnas\n",
        "\n",
        "    def valid_moves(self):\n",
        "        return [(i, j) for j in range(7) for i in range(6) if self.state[0, j] == 0]\n",
        "\n",
        "    def update(self, symbol, row, col):\n",
        "        for i in range(5, -1, -1):\n",
        "            if self.state[i, col] == 0:\n",
        "                self.state[i, col] = symbol\n",
        "                return\n",
        "        raise ValueError(\"Movimiento ilegal!\")\n",
        "\n",
        "    def is_game_over(self):\n",
        "        # Comprobar filas, columnas y diagonales\n",
        "        for row in range(6):\n",
        "            for col in range(7):\n",
        "                if col <= 3 and np.all(self.state[row, col:col + 4] == 1):\n",
        "                    return 1\n",
        "                if col <= 3 and np.all(self.state[row, col:col + 4] == -1):\n",
        "                    return -1\n",
        "                if row <= 2 and np.all(self.state[row:row + 4, col] == 1):\n",
        "                    return 1\n",
        "                if row <= 2 and np.all(self.state[row:row + 4, col] == -1):\n",
        "                    return -1\n",
        "                if col <= 3 and row <= 2 and np.all([self.state[row + i, col + i] == 1 for i in range(4)]):\n",
        "                    return 1\n",
        "                if col <= 3 and row <= 2 and np.all([self.state[row + i, col + i] == -1 for i in range(4)]):\n",
        "                    return -1\n",
        "                if col >= 3 and row <= 2 and np.all([self.state[row + i, col - i] == 1 for i in range(4)]):\n",
        "                    return 1\n",
        "                if col >= 3 and row <= 2 and np.all([self.state[row + i, col - i] == -1 for i in range(4)]):\n",
        "                    return -1\n",
        "        # Empate\n",
        "        if len(self.valid_moves()) == 0:\n",
        "            return 0\n",
        "        # Seguir jugando\n",
        "        return None\n",
        "\n",
        "    def reset(self):\n",
        "        self.state = np.zeros((6, 7))\n",
        "\n"
      ]
    },
    {
      "cell_type": "code",
      "execution_count": 3,
      "metadata": {
        "id": "ffpK0avoE-7K"
      },
      "outputs": [],
      "source": [
        "from tqdm import tqdm\n",
        "\n",
        "class Game():\n",
        "    def __init__(self, player1, player2):\n",
        "        player1.symbol = 1\n",
        "        player2.symbol = -1\n",
        "        self.players = [player1, player2]\n",
        "        self.board = Board()\n",
        "\n",
        "    def selfplay(self, rounds=100):\n",
        "        wins = [0, 0]\n",
        "        for i in tqdm(range(1, rounds + 1)):\n",
        "            self.board.reset()\n",
        "            for player in self.players:\n",
        "                player.reset()\n",
        "            game_over = False\n",
        "            while not game_over:\n",
        "                for player in self.players:\n",
        "                    action = player.move(self.board)\n",
        "                    self.board.update(player.symbol, action[0], action[1])\n",
        "                    for player in self.players:\n",
        "                        player.update(self.board)\n",
        "                    if self.board.is_game_over() is not None:\n",
        "                        game_over = True\n",
        "                        break\n",
        "            self.reward()\n",
        "            for ix, player in enumerate(self.players):\n",
        "                if self.board.is_game_over() == player.symbol:\n",
        "                    wins[ix] += 1\n",
        "        return wins\n",
        "\n",
        "    def reward(self):\n",
        "        winner = self.board.is_game_over()\n",
        "        if winner == 0:  # Empate\n",
        "            for player in self.players:\n",
        "                player.reward(0.5)\n",
        "        else:  # Le damos 1 recompensa al jugador que gana\n",
        "            for player in self.players:\n",
        "                if winner == player.symbol:\n",
        "                    player.reward(1)\n",
        "                else:\n",
        "                    player.reward(0)"
      ]
    },
    {
      "cell_type": "code",
      "execution_count": 4,
      "metadata": {
        "id": "fYGLDf2wFQpa"
      },
      "outputs": [],
      "source": [
        "class Agent():\n",
        "    def __init__(self, alpha=0.5, prob_exp=0.5):\n",
        "        self.value_function = {}  # Tabla con pares estado -> valor\n",
        "        self.alpha = alpha        # Learning rate\n",
        "        self.positions = []       # Guardamos todas las posiciones de la partida\n",
        "        self.prob_exp = prob_exp  # Probabilidad de explorar\n",
        "\n",
        "    def reset(self):\n",
        "        self.positions = []\n",
        "\n",
        "    def move(self, board, explore=True):\n",
        "        valid_moves = board.valid_moves()\n",
        "        # Exploracion\n",
        "        if explore and np.random.uniform(0, 1) < self.prob_exp:\n",
        "            # Vamos a una posición aleatoria\n",
        "            ix = np.random.choice(len(valid_moves))\n",
        "            return valid_moves[ix]\n",
        "        # Explotacion\n",
        "        # Vamos a la posición con más valor\n",
        "        max_value = -1000\n",
        "        for row, col in valid_moves:\n",
        "            next_board = board.state.copy()\n",
        "            next_board[row, col] = self.symbol\n",
        "            next_state = str(next_board.reshape(6*7))\n",
        "            value = 0 if self.value_function.get(next_state) is None else self.value_function.get(next_state)\n",
        "            if value >= max_value:\n",
        "                max_value = value\n",
        "                best_row, best_col = row, col\n",
        "        return best_row, best_col\n",
        "\n",
        "    def update(self, board):\n",
        "        self.positions.append(str(board.state.reshape(6*7)))\n",
        "\n",
        "    def reward(self, reward):\n",
        "        # Al final de la partida (cuando recibimos la recompensa)\n",
        "        # Iteramos por todos los estados actualizando su valor en la tabla\n",
        "        for p in reversed(self.positions):\n",
        "            if self.value_function.get(p) is None:\n",
        "                self.value_function[p] = 0\n",
        "            self.value_function[p] += self.alpha * (reward - self.value_function[p])\n",
        "            reward = self.value_function[p]\n"
      ]
    },
    {
      "cell_type": "code",
      "execution_count": null,
      "metadata": {
        "colab": {
          "base_uri": "https://localhost:8080/"
        },
        "id": "zKiLT10QFYaA",
        "outputId": "54bdd69b-67d6-454a-bff7-9ceb55bd68a1"
      },
      "outputs": [
        {
          "name": "stderr",
          "output_type": "stream",
          "text": [
            "  3%|▎         | 9025/300000 [25:10<7:26:33, 10.86it/s]"
          ]
        }
      ],
      "source": [
        "agent1 = Agent(prob_exp=0.5)\n",
        "agent2 = Agent()\n",
        "\n",
        "game = Game(agent1, agent2)\n",
        "\n",
        "game.selfplay(300000)\n"
      ]
    },
    {
      "cell_type": "code",
      "execution_count": null,
      "metadata": {
        "id": "xe3R5EfSFfoA"
      },
      "outputs": [],
      "source": [
        "import pandas as pd\n",
        "\n",
        "funcion_de_valor = sorted(agent1.value_function.items(), key=lambda kv: kv[1], reverse=True)\n",
        "tabla = pd.DataFrame({'estado': [x[0] for x in funcion_de_valor], 'valor': [x[1] for x in funcion_de_valor]})\n",
        "\n",
        "tabla\n"
      ]
    },
    {
      "cell_type": "code",
      "execution_count": null,
      "metadata": {
        "id": "VNUVTeZeFlYC"
      },
      "outputs": [],
      "source": [
        "import pickle\n",
        "\n",
        "with open('agente.pickle', 'wb') as handle:\n",
        "    pickle.dump(agent1.value_function, handle, protocol=pickle.HIGHEST_PROTOCOL)"
      ]
    }
  ],
  "metadata": {
    "colab": {
      "provenance": []
    },
    "kernelspec": {
      "display_name": "Python 3",
      "name": "python3"
    },
    "language_info": {
      "name": "python"
    }
  },
  "nbformat": 4,
  "nbformat_minor": 0
}
