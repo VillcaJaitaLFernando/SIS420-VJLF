{
  "cells": [
    {
      "cell_type": "markdown",
      "metadata": {
        "id": "xTjmiqnfSxgG"
      },
      "source": [
        "# LABORATORIO 3 - SIS 420 - Clasificación multiclase\n",
        "\n",
        "## Introduction\n",
        "\n",
        "En este ejercicio se implementa la regresion one-vs-all a un conjunto de datos en una empresa financiera global que evalua de puntuación crediticia para reducir los esfuerzos manuales y construir un modelo de aprendizaje automático que pueda clasificar el puntaje crediticio. (Bueno, Medio, Malo).\n",
        "\n",
        "*   Nombre Dataset: **Credit score classification**\n",
        "*   Url Dataset: https://www.kaggle.com/datasets/parisrohan/credit-score-classification\n",
        "\n"
      ]
    },
    {
      "cell_type": "code",
      "source": [
        "from google.colab import drive\n",
        "drive.mount('/content/drive')"
      ],
      "metadata": {
        "colab": {
          "base_uri": "https://localhost:8080/"
        },
        "id": "clyp4NcQycWP",
        "outputId": "be7c2e0e-2792-45ab-8c61-42e8ec3aa862"
      },
      "execution_count": 1,
      "outputs": [
        {
          "output_type": "stream",
          "name": "stdout",
          "text": [
            "Drive already mounted at /content/drive; to attempt to forcibly remount, call drive.mount(\"/content/drive\", force_remount=True).\n"
          ]
        }
      ]
    },
    {
      "cell_type": "code",
      "execution_count": 2,
      "metadata": {
        "id": "20Q29kX8SxgJ"
      },
      "outputs": [],
      "source": [
        "# utilizado para la manipulación de directorios y rutas\n",
        "import os\n",
        "\n",
        "# Cálculo científico y vectorial para python\n",
        "import numpy as np\n",
        "\n",
        "# Libreria para graficos\n",
        "from matplotlib import pyplot\n",
        "\n",
        "# Modulo de optimizacion en scipy\n",
        "from scipy import optimize\n",
        "\n",
        "# modulo para preprocesamiento del Dataset\n",
        "import pandas as pd\n",
        "# le dice a matplotlib que incruste gráficos en el cuaderno\n",
        "%matplotlib inline"
      ]
    },
    {
      "cell_type": "code",
      "source": [
        "# Cargar el dataset\n",
        "data = pd.read_csv('/content/drive/MyDrive/SIS 420 INTELIGENCIA ARTIFICAL 2024/MIS DATASETS/LAB 3/Credit score classification/train.csv', delimiter=',')\n"
      ],
      "metadata": {
        "colab": {
          "base_uri": "https://localhost:8080/"
        },
        "id": "VuWTtNVUdUyh",
        "outputId": "3355d856-8360-446b-9626-c45d63894166"
      },
      "execution_count": 3,
      "outputs": [
        {
          "output_type": "stream",
          "name": "stderr",
          "text": [
            "<ipython-input-3-c4deedc9d6b6>:2: DtypeWarning: Columns (26) have mixed types. Specify dtype option on import or set low_memory=False.\n",
            "  data = pd.read_csv('/content/drive/MyDrive/SIS 420 INTELIGENCIA ARTIFICAL 2024/MIS DATASETS/LAB 3/Credit score classification/train.csv', delimiter=',')\n"
          ]
        }
      ]
    },
    {
      "cell_type": "code",
      "source": [
        "dataset = data.copy()\n",
        "# Quitamos: numero de seguro social(SSN), identificador(ID) y Customer_ID (Id Cliente) porque no aplica al modelo puesto que no sera un dato\n",
        "# relavante que determine en nuestro caso\n",
        "# Eliminar las columna con nombre 'SSN, ID, Customer_ID'\n",
        "dataset.drop('SSN', axis=1, inplace=True)\n",
        "dataset.drop('ID', axis=1, inplace=True)\n",
        "dataset.drop('Customer_ID', axis=1, inplace=True)"
      ],
      "metadata": {
        "id": "hPwpF8hxiPO_"
      },
      "execution_count": 4,
      "outputs": []
    },
    {
      "cell_type": "code",
      "source": [
        "# Aqui eliminamos los jemplos que cuenten con campos vacios en alguna de las caracteristicas del dataset.\n",
        "data_sinf = dataset.dropna()\n",
        "\n",
        "# Verificar el nuevo conteo de filas y columnas\n",
        "print(data_sinf.shape)\n",
        "print(data_sinf.dtypes)\n",
        "#Tenemos listo el dataset de entrenamiento procesado con datos conscistentes"
      ],
      "metadata": {
        "colab": {
          "base_uri": "https://localhost:8080/"
        },
        "id": "1vK0LeUofCQo",
        "outputId": "b55d6955-065a-497d-8c08-d4fe57548917"
      },
      "execution_count": 5,
      "outputs": [
        {
          "output_type": "stream",
          "name": "stdout",
          "text": [
            "(53049, 25)\n",
            "Month                        object\n",
            "Name                         object\n",
            "Age                          object\n",
            "Occupation                   object\n",
            "Annual_Income                object\n",
            "Monthly_Inhand_Salary       float64\n",
            "Num_Bank_Accounts             int64\n",
            "Num_Credit_Card               int64\n",
            "Interest_Rate                 int64\n",
            "Num_of_Loan                  object\n",
            "Type_of_Loan                 object\n",
            "Delay_from_due_date           int64\n",
            "Num_of_Delayed_Payment       object\n",
            "Changed_Credit_Limit         object\n",
            "Num_Credit_Inquiries        float64\n",
            "Credit_Mix                   object\n",
            "Outstanding_Debt             object\n",
            "Credit_Utilization_Ratio    float64\n",
            "Credit_History_Age           object\n",
            "Payment_of_Min_Amount        object\n",
            "Total_EMI_per_month         float64\n",
            "Amount_invested_monthly      object\n",
            "Payment_Behaviour            object\n",
            "Monthly_Balance              object\n",
            "Credit_Score                 object\n",
            "dtype: object\n"
          ]
        }
      ]
    },
    {
      "cell_type": "code",
      "source": [
        "#Procedemos a convertir los datos de las caracteristicas a valores numericos para que podamos\n",
        "#utilizar  de manera eficiente en el modelo mediante pandas\n",
        "# Convertir columnas categóricas a numéricas (astype('category').cat.codes, convierte las categorías en valores numéricos únicos.)\n",
        "# Luego, cat.codes extrae estos códigos numéricos asignados a cada categoría.\n",
        "data_proc = data_sinf.copy()\n",
        "data_proc['Month'] = data_proc['Month'].astype('category').cat.codes\n",
        "data_proc['Name'] = data_proc['Name'].astype('category').cat.codes\n",
        "data_proc['Age'] = data_proc['Age'].astype('category').cat.codes\n",
        "data_proc['Occupation'] = data_proc['Occupation'].astype('category').cat.codes\n",
        "data_proc['Annual_Income'] = data_proc['Annual_Income'].astype('category').cat.codes\n",
        "data_proc['Num_of_Loan'] = data_proc['Num_of_Loan'].astype('category').cat.codes\n",
        "data_proc['Type_of_Loan'] = data_proc['Type_of_Loan'].astype('category').cat.codes\n",
        "data_proc['Num_of_Delayed_Payment'] = data_proc['Num_of_Delayed_Payment'].astype('category').cat.codes\n",
        "data_proc['Changed_Credit_Limit'] = data_proc['Changed_Credit_Limit'].astype('category').cat.codes\n",
        "data_proc['Credit_Mix'] = data_proc['Credit_Mix'].astype('category').cat.codes\n",
        "data_proc['Outstanding_Debt'] = data_proc['Outstanding_Debt'].astype('category').cat.codes\n",
        "data_proc['Credit_History_Age'] = data_proc['Credit_History_Age'].astype('category').cat.codes\n",
        "data_proc['Payment_of_Min_Amount'] = data_proc['Payment_of_Min_Amount'].astype('category').cat.codes\n",
        "data_proc['Amount_invested_monthly'] = data_proc['Amount_invested_monthly'].astype('category').cat.codes\n",
        "data_proc['Payment_Behaviour'] = data_proc['Payment_Behaviour'].astype('category').cat.codes\n",
        "data_proc['Monthly_Balance'] = data_proc['Monthly_Balance'].astype('category').cat.codes\n",
        "\n",
        "# Definir el mapeo de clasificación para nuestra y a predecir asignandole los valores que deseamos\n",
        "clasificacion = {'Good': 3, 'Standard': 2, 'Poor': 1}\n",
        "\n",
        "# Aplicar el mapeo a la columna 'Credit_score'\n",
        "data_proc['Credit_Score'] = data_proc['Credit_Score'].map(clasificacion)\n",
        "\n",
        "# Verificar que las columnas categóricas se han convertido a numéricas\n",
        "print(data_proc.head())\n",
        "print(data_proc.dtypes)\n"
      ],
      "metadata": {
        "colab": {
          "base_uri": "https://localhost:8080/"
        },
        "id": "Us-iP9-BksDO",
        "outputId": "21fb4b06-53bc-47b3-876b-73d3d5b84933"
      },
      "execution_count": 6,
      "outputs": [
        {
          "output_type": "stream",
          "name": "stdout",
          "text": [
            "    Month  Name  Age  Occupation  Annual_Income  Monthly_Inhand_Salary  \\\n",
            "0       3    75  184          12           4604            1824.843333   \n",
            "6       4    75  184          12           4604            1824.843333   \n",
            "8       3  6750  269          15           7905            3037.986667   \n",
            "9       2  6750  257          13           7905            3037.986667   \n",
            "10      6  6750  257          13           7906            3037.986667   \n",
            "\n",
            "    Num_Bank_Accounts  Num_Credit_Card  Interest_Rate  Num_of_Loan  ...  \\\n",
            "0                   3                4              3          134  ...   \n",
            "6                   3                4              3          134  ...   \n",
            "8                   2                4              6            1  ...   \n",
            "9                   2                4              6            1  ...   \n",
            "10                  2             1385              6            1  ...   \n",
            "\n",
            "    Credit_Mix  Outstanding_Debt  Credit_Utilization_Ratio  \\\n",
            "0            3             10500                 26.822620   \n",
            "6            1             10500                 22.537593   \n",
            "8            1              9473                 24.464031   \n",
            "9            1              9473                 38.550848   \n",
            "10           3              9473                 33.224951   \n",
            "\n",
            "    Credit_History_Age  Payment_of_Min_Amount  Total_EMI_per_month  \\\n",
            "0                  180                      1            49.574949   \n",
            "6                  188                      1            49.574949   \n",
            "8                  236                      1            18.816215   \n",
            "9                  237                      1            18.816215   \n",
            "10                 238                      1            18.816215   \n",
            "\n",
            "    Amount_invested_monthly  Payment_Behaviour  Monthly_Balance  Credit_Score  \n",
            "0                     45309                  3            24582             3  \n",
            "6                     14245                  6             9862             3  \n",
            "8                      1068                  6            41745             2  \n",
            "9                     30346                  1            42460             3  \n",
            "10                    37937                  1            41506             2  \n",
            "\n",
            "[5 rows x 25 columns]\n",
            "Month                          int8\n",
            "Name                          int16\n",
            "Age                           int16\n",
            "Occupation                     int8\n",
            "Annual_Income                 int16\n",
            "Monthly_Inhand_Salary       float64\n",
            "Num_Bank_Accounts             int64\n",
            "Num_Credit_Card               int64\n",
            "Interest_Rate                 int64\n",
            "Num_of_Loan                   int16\n",
            "Type_of_Loan                  int16\n",
            "Delay_from_due_date           int64\n",
            "Num_of_Delayed_Payment        int16\n",
            "Changed_Credit_Limit          int16\n",
            "Num_Credit_Inquiries        float64\n",
            "Credit_Mix                     int8\n",
            "Outstanding_Debt              int16\n",
            "Credit_Utilization_Ratio    float64\n",
            "Credit_History_Age            int16\n",
            "Payment_of_Min_Amount          int8\n",
            "Total_EMI_per_month         float64\n",
            "Amount_invested_monthly       int32\n",
            "Payment_Behaviour              int8\n",
            "Monthly_Balance               int32\n",
            "Credit_Score                  int64\n",
            "dtype: object\n"
          ]
        }
      ]
    },
    {
      "cell_type": "code",
      "source": [
        "#finalmente ordenamos el dataset de manera que la clasificacion del Credit_Score nuestra y a predecir este de manera agrupada y descendente\n",
        "data_proc = data_proc.sort_values(by='Credit_Score')\n",
        "\n",
        "# Verificar el DataFrame ordenado\n",
        "print(data_proc.head())"
      ],
      "metadata": {
        "colab": {
          "base_uri": "https://localhost:8080/"
        },
        "id": "oJNtj4cPnqO8",
        "outputId": "6d4b6b7e-5f64-4c63-d77b-df7ce292fc4a"
      },
      "execution_count": 7,
      "outputs": [
        {
          "output_type": "stream",
          "name": "stdout",
          "text": [
            "       Month  Name  Age  Occupation  Annual_Income  Monthly_Inhand_Salary  \\\n",
            "99999      1  5903  215           9           8830            3359.415833   \n",
            "73962      6  1510  315          15           2933           13006.396667   \n",
            "31733      5   508  174           7           6588            2441.178333   \n",
            "73967      1  1510  315           7           2933           13006.396667   \n",
            "73978      6  5852  341           7           2666            1530.341667   \n",
            "\n",
            "       Num_Bank_Accounts  Num_Credit_Card  Interest_Rate  Num_of_Loan  ...  \\\n",
            "99999                  4                6              7           95  ...   \n",
            "73962                  1                7              9          116  ...   \n",
            "31733                  8                6             11          152  ...   \n",
            "73967                  1                7              9           95  ...   \n",
            "73978                  8               10             20          153  ...   \n",
            "\n",
            "       Credit_Mix  Outstanding_Debt  Credit_Utilization_Ratio  \\\n",
            "99999           1              8938                 34.192463   \n",
            "73962           1              6965                 43.072175   \n",
            "31733           2              8865                 29.425120   \n",
            "73967           3              6965                 41.512418   \n",
            "73978           0              5849                 27.731055   \n",
            "\n",
            "       Credit_History_Age  Payment_of_Min_Amount  Total_EMI_per_month  \\\n",
            "99999                 301                      1            35.104023   \n",
            "73962                 310                      0           145.513639   \n",
            "31733                 184                      1            75.124270   \n",
            "73967                 315                      1           145.513639   \n",
            "73978                 118                      2            58.034318   \n",
            "\n",
            "       Amount_invested_monthly  Payment_Behaviour  Monthly_Balance  \\\n",
            "99999                    12779                  0              561   \n",
            "73962                    38814                  3            51117   \n",
            "31733                    21985                  6             5084   \n",
            "73967                    25375                  1             1397   \n",
            "73978                    40148                  6            26082   \n",
            "\n",
            "       Credit_Score  \n",
            "99999             1  \n",
            "73962             1  \n",
            "31733             1  \n",
            "73967             1  \n",
            "73978             1  \n",
            "\n",
            "[5 rows x 25 columns]\n"
          ]
        }
      ]
    },
    {
      "cell_type": "code",
      "execution_count": 8,
      "metadata": {
        "id": "hhRjL2ptSxgK",
        "colab": {
          "base_uri": "https://localhost:8080/"
        },
        "outputId": "452e4b67-181f-4d1a-aeb3-f2fae09d0f33"
      },
      "outputs": [
        {
          "output_type": "stream",
          "name": "stdout",
          "text": [
            "       Month  Name  Age  Occupation  Annual_Income  Monthly_Inhand_Salary  \\\n",
            "99999      1  5903  215           9           8830            3359.415833   \n",
            "73962      6  1510  315          15           2933           13006.396667   \n",
            "31733      5   508  174           7           6588            2441.178333   \n",
            "73967      1  1510  315           7           2933           13006.396667   \n",
            "73978      6  5852  341           7           2666            1530.341667   \n",
            "...      ...   ...  ...         ...            ...                    ...   \n",
            "37741      5   470  123          13           4015            1205.193333   \n",
            "62535      1  8280  621          13          14519            6907.982009   \n",
            "37740      7   470  123          13           4015            1205.193333   \n",
            "87390      4  2722  602           1           5689            1320.708010   \n",
            "0          3    75  184          12           4604            1824.843333   \n",
            "\n",
            "       Num_Bank_Accounts  Num_Credit_Card  Interest_Rate  Num_of_Loan  ...  \\\n",
            "99999                  4                6              7           95  ...   \n",
            "73962                  1                7              9          116  ...   \n",
            "31733                  8                6             11          152  ...   \n",
            "73967                  1                7              9           95  ...   \n",
            "73978                  8               10             20          153  ...   \n",
            "...                  ...              ...            ...          ...  ...   \n",
            "37741                  0                4              6          117  ...   \n",
            "62535                  3                4             12          117  ...   \n",
            "37740                  0                4              6          117  ...   \n",
            "87390                  4                2              6          117  ...   \n",
            "0                      3                4              3          134  ...   \n",
            "\n",
            "       Num_Credit_Inquiries  Credit_Mix  Outstanding_Debt  \\\n",
            "99999                   3.0           1              8938   \n",
            "73962                   3.0           1              6965   \n",
            "31733                   3.0           2              8865   \n",
            "73967                   3.0           3              6965   \n",
            "73978                  11.0           0              5849   \n",
            "...                     ...         ...               ...   \n",
            "37741                   1.0           1               145   \n",
            "62535                   4.0           1              1626   \n",
            "37740                   1.0           3               145   \n",
            "87390                   6.0           3              8564   \n",
            "0                       4.0           3             10500   \n",
            "\n",
            "       Credit_Utilization_Ratio  Credit_History_Age  Payment_of_Min_Amount  \\\n",
            "99999                 34.192463                 301                      1   \n",
            "73962                 43.072175                 310                      0   \n",
            "31733                 29.425120                 184                      1   \n",
            "73967                 41.512418                 315                      1   \n",
            "73978                 27.731055                 118                      2   \n",
            "...                         ...                 ...                    ...   \n",
            "37741                 32.273326                 223                      1   \n",
            "62535                 35.302764                 218                      1   \n",
            "37740                 26.808554                 222                      1   \n",
            "87390                 34.845383                 200                      1   \n",
            "0                     26.822620                 180                      1   \n",
            "\n",
            "       Total_EMI_per_month  Amount_invested_monthly  Payment_Behaviour  \\\n",
            "99999            35.104023                    12779                  0   \n",
            "73962           145.513639                    38814                  3   \n",
            "31733            75.124270                    21985                  6   \n",
            "73967           145.513639                    25375                  1   \n",
            "73978            58.034318                    40148                  6   \n",
            "...                    ...                      ...                ...   \n",
            "37741            40.296857                    50404                  5   \n",
            "62535          1203.206142                    45192                  6   \n",
            "37740            40.296857                    29318                  4   \n",
            "87390           256.613872                    47922                  5   \n",
            "0                49.574949                    45309                  3   \n",
            "\n",
            "       Monthly_Balance  \n",
            "99999              561  \n",
            "73962            51117  \n",
            "31733             5084  \n",
            "73967             1397  \n",
            "73978            26082  \n",
            "...                ...  \n",
            "37741            13018  \n",
            "62535            48521  \n",
            "37740            24476  \n",
            "87390            21679  \n",
            "0                24582  \n",
            "\n",
            "[53049 rows x 24 columns]\n",
            "99999    1\n",
            "73962    1\n",
            "31733    1\n",
            "73967    1\n",
            "73978    1\n",
            "        ..\n",
            "37741    0\n",
            "62535    0\n",
            "37740    0\n",
            "87390    0\n",
            "0        0\n",
            "Name: Credit_Score, Length: 53049, dtype: int64\n"
          ]
        },
        {
          "output_type": "stream",
          "name": "stderr",
          "text": [
            "<ipython-input-8-8cdf38d83bcc>:10: SettingWithCopyWarning: \n",
            "A value is trying to be set on a copy of a slice from a DataFrame\n",
            "\n",
            "See the caveats in the documentation: https://pandas.pydata.org/pandas-docs/stable/user_guide/indexing.html#returning-a-view-versus-a-copy\n",
            "  y[y == 3] = 0\n"
          ]
        }
      ],
      "source": [
        "# La entrada es de 25 caracteristicas + un elemento contando con x0\n",
        "input_layer_size  = 26\n",
        "\n",
        "#Etiquetas del Credit_Score (Good=3, Standart=2 y Poor=1)\n",
        "num_labels = 3\n",
        "\n",
        "X = data_proc.iloc[:, :-1]  # Selecciona todas las filas y todas las columnas excepto la última\n",
        "y = data_proc.iloc[:, -1]    # Selecciona todas las filas y la última columna\n",
        "\n",
        "y[y == 3] = 0\n",
        "print(X)\n",
        "print(y)\n",
        "\n",
        "m = y.size"
      ]
    },
    {
      "cell_type": "code",
      "source": [
        "def  featureNormalize(X):\n",
        "    X_norm = X.copy()\n",
        "    mu = np.zeros(X.shape[1])\n",
        "    sigma = np.zeros(X.shape[1])\n",
        "\n",
        "    mu = np.mean(X, axis = 0)\n",
        "    sigma = np.std(X, axis = 0)\n",
        "    X_norm = (X - mu) / sigma\n",
        "\n",
        "    return X_norm, mu, sigma"
      ],
      "metadata": {
        "id": "HWF5C5Jt8wNb"
      },
      "execution_count": 9,
      "outputs": []
    },
    {
      "cell_type": "code",
      "source": [
        "# llama featureNormalize con los datos cargados\n",
        "X_norm, mu, sigma = featureNormalize(X)"
      ],
      "metadata": {
        "id": "f4W6d-ya1ABV"
      },
      "execution_count": 10,
      "outputs": []
    },
    {
      "cell_type": "code",
      "source": [
        "# Configurar la matriz adecuadamente, y agregar una columna de unos que corresponde al termino de intercepción.\n",
        "m, n = X.shape\n",
        "# Agraga el termino de intercepción a A\n",
        "# X = np.concatenate([np.ones((m, 1)), X_norm], axis=1)\n",
        "X = X_norm\n",
        "# X = np.concatenate([np.ones((m, 1)), X], axis=1)"
      ],
      "metadata": {
        "id": "r9e6MRrW1G22"
      },
      "execution_count": 11,
      "outputs": []
    },
    {
      "cell_type": "code",
      "execution_count": 12,
      "metadata": {
        "id": "0sB9Kyi8SxgN"
      },
      "outputs": [],
      "source": [
        "def sigmoid(z):\n",
        "    \"\"\"\n",
        "    Calcula la sigmoide de z.\n",
        "    \"\"\"\n",
        "    return 1.0 / (1.0 + np.exp(-z))"
      ]
    },
    {
      "cell_type": "code",
      "execution_count": 13,
      "metadata": {
        "id": "w5S0OOswSxgN"
      },
      "outputs": [],
      "source": [
        "def lrCostFunction(theta, X, y, lambda_):\n",
        "    \"\"\"\n",
        "    Calcula el costo de usar theta como parámetro para la regresión logística regularizada y\n",
        "    el gradiente del costo w.r.t. a los parámetros.\n",
        "\n",
        "    Parametros\n",
        "    ----------\n",
        "    theta : array_like\n",
        "        Parametro theta de la regresion logistica. Vector de la forma(shape) (n, ). n es el numero de caracteristicas\n",
        "        incluida la intercepcion\n",
        "\n",
        "    X : array_like\n",
        "        Dataset con la forma(shape) (m x n). m es el numero de ejemplos, y n es el numero de\n",
        "        caracteristicas (incluida la intercepcion).\n",
        "\n",
        "    y : array_like\n",
        "        El conjunto de etiquetas. Un vector con la forma (shape) (m, ). m es el numero de ejemplos\n",
        "\n",
        "    lambda_ : float\n",
        "        Parametro de regularización.\n",
        "\n",
        "    Devuelve\n",
        "    -------\n",
        "    J : float\n",
        "        El valor calculado para la funcion de costo regularizada.\n",
        "\n",
        "    grad : array_like\n",
        "        Un vector de la forma (shape) (n, ) que es el gradiente de la\n",
        "        función de costo con respecto a theta, en los valores actuales de theta..\n",
        "    \"\"\"\n",
        "#     alpha = 0.003\n",
        "#     theta = theta.copy()\n",
        "    # Inicializa algunos valores utiles\n",
        "    m = y.size\n",
        "\n",
        "    # convierte las etiquetas a valores enteros si son boleanos\n",
        "    if y.dtype == bool:\n",
        "        y = y.astype(int)\n",
        "\n",
        "    J = 0\n",
        "    grad = np.zeros(theta.shape)\n",
        "\n",
        "    h = sigmoid(X.dot(theta.T))\n",
        "\n",
        "    temp = theta\n",
        "    temp[0] = 0\n",
        "\n",
        "#     J = (1 / m) * np.sum(-y.dot(np.log(h)) - (1 - y).dot(np.log(1 - h)))\n",
        "    J = (1 / m) * np.sum(-y.dot(np.log(h)) - (1 - y).dot(np.log(1 - h))) + (lambda_ / (2 * m)) * np.sum(np.square(temp))\n",
        "\n",
        "    grad = (1 / m) * (h - y).dot(X)\n",
        "#     theta = theta - (alpha / m) * (h - y).dot(X)\n",
        "    grad = grad + (lambda_ / m) * temp\n",
        "\n",
        "    return J, grad\n",
        "#    return J, theta"
      ]
    },
    {
      "cell_type": "code",
      "execution_count": 14,
      "metadata": {
        "id": "V0rOw5qhSxgN"
      },
      "outputs": [],
      "source": [
        "def oneVsAll(X, y, num_labels, lambda_):\n",
        "    \"\"\"\n",
        "    Trains num_labels logistic regression classifiers and returns\n",
        "    each of these classifiers in a matrix all_theta, where the i-th\n",
        "    row of all_theta corresponds to the classifier for label i.\n",
        "\n",
        "    Parameters\n",
        "    ----------\n",
        "    X : array_like\n",
        "        The input dataset of shape (m x n). m is the number of\n",
        "        data points, and n is the number of features. Note that we\n",
        "        do not assume that the intercept term (or bias) is in X, however\n",
        "        we provide the code below to add the bias term to X.\n",
        "\n",
        "    y : array_like\n",
        "        The data labels. A vector of shape (m, ).\n",
        "\n",
        "    num_labels : int\n",
        "        Number of possible labels.\n",
        "\n",
        "    lambda_ : float\n",
        "        The logistic regularization parameter.\n",
        "\n",
        "    Returns\n",
        "    -------\n",
        "    all_theta : array_like\n",
        "        The trained parameters for logistic regression for each class.\n",
        "        This is a matrix of shape (K x n+1) where K is number of classes\n",
        "        (ie. `numlabels`) and n is number of features without the bias.\n",
        "    \"\"\"\n",
        "    # algunas variables utiles\n",
        "    m, n = X.shape\n",
        "\n",
        "    all_theta = np.zeros((num_labels, n + 1))\n",
        "\n",
        "    # Agrega unos a la matriz X\n",
        "    X = np.concatenate([np.ones((m, 1)), X], axis=1)\n",
        "\n",
        "    for c in np.arange(num_labels):\n",
        "        initial_theta = np.zeros(n + 1)\n",
        "        options = {'maxiter': 100}\n",
        "        res = optimize.minimize(lrCostFunction,\n",
        "                                initial_theta,\n",
        "                                (X, (y == c), lambda_),\n",
        "                                jac=True,\n",
        "                                method='CG',\n",
        "                                options=options)\n",
        "\n",
        "        all_theta[c] = res.x\n",
        "\n",
        "    return all_theta"
      ]
    },
    {
      "cell_type": "code",
      "execution_count": 15,
      "metadata": {
        "id": "w6JbsLLMSxgO",
        "outputId": "8db833b7-c317-459e-995d-896e89778f65",
        "colab": {
          "base_uri": "https://localhost:8080/"
        }
      },
      "outputs": [
        {
          "output_type": "stream",
          "name": "stdout",
          "text": [
            "(3, 25)\n"
          ]
        }
      ],
      "source": [
        "lambda_ = 0.1\n",
        "all_theta = oneVsAll(X, y, num_labels, lambda_)\n",
        "print(all_theta.shape)"
      ]
    },
    {
      "cell_type": "code",
      "source": [
        "print(all_theta)"
      ],
      "metadata": {
        "colab": {
          "base_uri": "https://localhost:8080/"
        },
        "id": "V1EfKaiEgtcw",
        "outputId": "b2ff1402-b794-4096-f6b9-5dc91987329b"
      },
      "execution_count": 16,
      "outputs": [
        {
          "output_type": "stream",
          "name": "stdout",
          "text": [
            "[[-2.34825987e+00 -3.10248140e-02 -7.23867576e-03  1.15722480e-01\n",
            "  -3.24271798e-02 -3.91973940e-02  1.29712865e-01 -1.09817118e-02\n",
            "  -1.68012713e-03  6.11672807e-03 -1.92109014e-01  3.06794793e-04\n",
            "  -1.21752945e+00  8.66952390e-02  9.83181058e-02 -1.86097555e-02\n",
            "  -3.10045790e-01  7.08245282e-02 -3.61456322e-02  1.29173624e-01\n",
            "  -4.85342597e-01  9.79529718e-04  2.71282224e-02 -1.29240900e-01\n",
            "   1.32664451e-02]\n",
            " [-9.46558522e-01  1.37137534e-02  1.75383025e-04 -1.19767602e-01\n",
            "   2.83510416e-03  1.02685077e-01 -1.61423631e-01  3.17718409e-03\n",
            "   1.63445390e-02  1.08423104e-02  2.53327510e-01 -3.34796195e-03\n",
            "   5.92577320e-01  2.34359635e-02  2.83102161e-02  1.53707137e-03\n",
            "  -1.65262569e-01 -2.56147663e-01  1.68563641e-02 -6.85926170e-02\n",
            "   1.16452642e-01 -3.94331438e-03 -2.20989558e-02  1.31773979e-01\n",
            "   8.19741886e-03]\n",
            " [ 1.11147276e-01  3.82841567e-03 -7.54448303e-04  1.96781319e-02\n",
            "   1.13199623e-02 -3.81419609e-02 -1.63567469e-02  2.89193085e-03\n",
            "  -1.17193536e-02 -1.13839743e-02 -8.24598456e-02  1.94320446e-03\n",
            "  -1.63773816e-01 -1.08048855e-01 -8.40143874e-02  7.42456253e-03\n",
            "   3.15150721e-01  1.26930054e-01 -2.90861970e-03  1.53407323e-02\n",
            "   1.64740944e-01  2.36408638e-03  2.94911707e-03 -4.30415313e-02\n",
            "   1.62306838e-02]]\n"
          ]
        }
      ]
    },
    {
      "cell_type": "code",
      "execution_count": 17,
      "metadata": {
        "id": "PjFoFe1bSxgO"
      },
      "outputs": [],
      "source": [
        "def predictOneVsAll(all_theta, X):\n",
        "    \"\"\"\n",
        "    Devuelve un vector de predicciones para cada ejemplo en la matriz X.\n",
        "    Tenga en cuenta que X contiene los ejemplos en filas.\n",
        "    all_theta es una matriz donde la i-ésima fila es un vector theta de regresión logística entrenada para la i-ésima clase.\n",
        "    Debe establecer p en un vector de valores de 0..K-1 (por ejemplo, p = [0, 2, 0, 1]\n",
        "    predice clases 0, 2, 0, 1 para 4 ejemplos).\n",
        "\n",
        "    Parametros\n",
        "    ----------\n",
        "    all_theta : array_like\n",
        "        The trained parameters for logistic regression for each class.\n",
        "        This is a matrix of shape (K x n+1) where K is number of classes\n",
        "        and n is number of features without the bias.\n",
        "\n",
        "    X : array_like\n",
        "        Data points to predict their labels. This is a matrix of shape\n",
        "        (m x n) where m is number of data points to predict, and n is number\n",
        "        of features without the bias term. Note we add the bias term for X in\n",
        "        this function.\n",
        "\n",
        "    Devuelve\n",
        "    -------\n",
        "    p : array_like\n",
        "        The predictions for each data point in X. This is a vector of shape (m, ).\n",
        "    \"\"\"\n",
        "\n",
        "    m = X.shape[0];\n",
        "    num_labels = all_theta.shape[0]\n",
        "\n",
        "    p = np.zeros(m)\n",
        "\n",
        "    # Add ones to the X data matrix\n",
        "    X = np.concatenate([np.ones((m, 1)), X], axis=1)\n",
        "    p = np.argmax(sigmoid(X.dot(all_theta.T)), axis = 1)\n",
        "\n",
        "    return p"
      ]
    },
    {
      "cell_type": "code",
      "source": [
        "print(X.shape)\n",
        "pred = predictOneVsAll(all_theta, X)\n",
        "print('Precision del conjuto de entrenamiento: {:.2f}%'.format(np.mean(pred == y) * 100))\n"
      ],
      "metadata": {
        "colab": {
          "base_uri": "https://localhost:8080/"
        },
        "id": "bA2qWG7LzA53",
        "outputId": "1c91ce30-e2e9-42bf-a44e-7009e14237fc"
      },
      "execution_count": 18,
      "outputs": [
        {
          "output_type": "stream",
          "name": "stdout",
          "text": [
            "(53049, 24)\n",
            "Precision del conjuto de entrenamiento: 58.94%\n"
          ]
        }
      ]
    },
    {
      "cell_type": "code",
      "source": [
        "#Evaluar con el dataset de test: train.csv\n",
        "# Cargar el dataset\n",
        "data_t = pd.read_csv('/content/drive/MyDrive/SIS 420 INTELIGENCIA ARTIFICAL 2024/MIS DATASETS/LAB 3/Credit score classification/train.csv', delimiter=',')\n",
        "\n",
        "dataset_t = data_t.copy()\n",
        "# Quitamos: numero de seguro social(SSN), identificador(ID) y Customer_ID (Id Cliente) porque no aplica al modelo puesto que no sera un dato\n",
        "# relavante que determine en nuestro caso\n",
        "# Eliminar las columna con nombre 'SSN, ID, Customer_ID'\n",
        "dataset_t.drop('SSN', axis=1, inplace=True)\n",
        "dataset_t.drop('ID', axis=1, inplace=True)\n",
        "dataset_t.drop('Customer_ID', axis=1, inplace=True)\n",
        "\n",
        "# Aqui eliminamos los jemplos que cuenten con campos vacios en alguna de las caracteristicas del dataset.\n",
        "data_sinf_t = dataset_t.dropna()\n",
        "\n",
        "# Verificar el nuevo conteo de filas y columnas\n",
        "print(data_sinf_t.shape)\n",
        "data_sinf_t.count()\n",
        "#Tenemos listo el dataset de entrenamiento procesado con datos conscistentes\n",
        "\n",
        "# Verificar el tipo de datos\n",
        "print(data_sinf_t.dtypes)"
      ],
      "metadata": {
        "colab": {
          "base_uri": "https://localhost:8080/"
        },
        "id": "CFEs2WXkzeMU",
        "outputId": "702fca6e-2f23-460c-bd7e-c62e8e270dff"
      },
      "execution_count": 19,
      "outputs": [
        {
          "output_type": "stream",
          "name": "stderr",
          "text": [
            "<ipython-input-19-6dedbaaa9ec2>:3: DtypeWarning: Columns (26) have mixed types. Specify dtype option on import or set low_memory=False.\n",
            "  data_t = pd.read_csv('/content/drive/MyDrive/SIS 420 INTELIGENCIA ARTIFICAL 2024/MIS DATASETS/LAB 3/Credit score classification/train.csv', delimiter=',')\n"
          ]
        },
        {
          "output_type": "stream",
          "name": "stdout",
          "text": [
            "(53049, 25)\n",
            "Month                        object\n",
            "Name                         object\n",
            "Age                          object\n",
            "Occupation                   object\n",
            "Annual_Income                object\n",
            "Monthly_Inhand_Salary       float64\n",
            "Num_Bank_Accounts             int64\n",
            "Num_Credit_Card               int64\n",
            "Interest_Rate                 int64\n",
            "Num_of_Loan                  object\n",
            "Type_of_Loan                 object\n",
            "Delay_from_due_date           int64\n",
            "Num_of_Delayed_Payment       object\n",
            "Changed_Credit_Limit         object\n",
            "Num_Credit_Inquiries        float64\n",
            "Credit_Mix                   object\n",
            "Outstanding_Debt             object\n",
            "Credit_Utilization_Ratio    float64\n",
            "Credit_History_Age           object\n",
            "Payment_of_Min_Amount        object\n",
            "Total_EMI_per_month         float64\n",
            "Amount_invested_monthly      object\n",
            "Payment_Behaviour            object\n",
            "Monthly_Balance              object\n",
            "Credit_Score                 object\n",
            "dtype: object\n"
          ]
        }
      ]
    },
    {
      "cell_type": "code",
      "source": [
        "#Procedemos a convertir los datos de las caracteristicas a valores numericos para que podamos\n",
        "#utilizar  de manera eficiente en el modelo mediante pandas\n",
        "# Convertir columnas categóricas a numéricas (astype('category').cat.codes, convierte las categorías en valores numéricos únicos.)\n",
        "# Luego, cat.codes extrae estos códigos numéricos asignados a cada categoría.\n",
        "data_proc_t = data_sinf_t.copy()\n",
        "data_proc_t['Month'] = data_proc['Month'].astype('category').cat.codes\n",
        "data_proc_t['Name'] = data_proc['Name'].astype('category').cat.codes\n",
        "data_proc_t['Age'] = data_proc['Age'].astype('category').cat.codes\n",
        "data_proc_t['Occupation'] = data_proc['Occupation'].astype('category').cat.codes\n",
        "data_proc_t['Annual_Income'] = data_proc['Annual_Income'].astype('category').cat.codes\n",
        "data_proc_t['Num_of_Loan'] = data_proc['Num_of_Loan'].astype('category').cat.codes\n",
        "data_proc_t['Type_of_Loan'] = data_proc['Type_of_Loan'].astype('category').cat.codes\n",
        "data_proc_t['Num_of_Delayed_Payment'] = data_proc['Num_of_Delayed_Payment'].astype('category').cat.codes\n",
        "data_proc_t['Changed_Credit_Limit'] = data_proc['Changed_Credit_Limit'].astype('category').cat.codes\n",
        "data_proc_t['Credit_Mix'] = data_proc['Credit_Mix'].astype('category').cat.codes\n",
        "data_proc_t['Outstanding_Debt'] = data_proc['Outstanding_Debt'].astype('category').cat.codes\n",
        "data_proc_t['Credit_History_Age'] = data_proc['Credit_History_Age'].astype('category').cat.codes\n",
        "data_proc_t['Payment_of_Min_Amount'] = data_proc['Payment_of_Min_Amount'].astype('category').cat.codes\n",
        "data_proc_t['Amount_invested_monthly'] = data_proc['Amount_invested_monthly'].astype('category').cat.codes\n",
        "data_proc_t['Payment_Behaviour'] = data_proc['Payment_Behaviour'].astype('category').cat.codes\n",
        "data_proc_t['Monthly_Balance'] = data_proc['Monthly_Balance'].astype('category').cat.codes\n",
        "\n",
        "# Definir el mapeo de clasificación para nuestra y a predecir asignandole los valores que deseamos\n",
        "clasificacion_t = {'Good': 3, 'Standard': 2, 'Poor': 1}\n",
        "\n",
        "# Aplicar el mapeo a la columna 'Credit_score'\n",
        "data_proc_t['Credit_Score'] = data_proc_t['Credit_Score'].map(clasificacion_t)\n",
        "\n",
        "# Verificar que las columnas categóricas se han convertido a numéricas\n",
        "print(data_proc_t.head())\n",
        "print(data_proc_t.dtypes)\n",
        "\n",
        "#finalmente ordenamos el dataset de manera que la clasificacion del Credit_Score nuestra y a predecir este de manera agrupada y descendente\n",
        "data_proc_test = data_proc.sort_values(by='Credit_Score')\n",
        "\n",
        "# Verificar el DataFrame ordenado\n",
        "print(data_proc_test.head())"
      ],
      "metadata": {
        "colab": {
          "base_uri": "https://localhost:8080/"
        },
        "id": "sqN8RqcD0hd1",
        "outputId": "77fca2d8-3b66-4ed6-89c4-21d887cf55de"
      },
      "execution_count": 20,
      "outputs": [
        {
          "output_type": "stream",
          "name": "stdout",
          "text": [
            "    Month  Name  Age  Occupation  Annual_Income  Monthly_Inhand_Salary  \\\n",
            "0       3    75  184          12           4604            1824.843333   \n",
            "6       4    75  184          12           4604            1824.843333   \n",
            "8       3  6750  269          15           7905            3037.986667   \n",
            "9       2  6750  257          13           7905            3037.986667   \n",
            "10      6  6750  257          13           7906            3037.986667   \n",
            "\n",
            "    Num_Bank_Accounts  Num_Credit_Card  Interest_Rate  Num_of_Loan  ...  \\\n",
            "0                   3                4              3          134  ...   \n",
            "6                   3                4              3          134  ...   \n",
            "8                   2                4              6            1  ...   \n",
            "9                   2                4              6            1  ...   \n",
            "10                  2             1385              6            1  ...   \n",
            "\n",
            "    Credit_Mix  Outstanding_Debt  Credit_Utilization_Ratio  \\\n",
            "0            3             10500                 26.822620   \n",
            "6            1             10500                 22.537593   \n",
            "8            1              9473                 24.464031   \n",
            "9            1              9473                 38.550848   \n",
            "10           3              9473                 33.224951   \n",
            "\n",
            "    Credit_History_Age  Payment_of_Min_Amount  Total_EMI_per_month  \\\n",
            "0                  180                      1            49.574949   \n",
            "6                  188                      1            49.574949   \n",
            "8                  236                      1            18.816215   \n",
            "9                  237                      1            18.816215   \n",
            "10                 238                      1            18.816215   \n",
            "\n",
            "    Amount_invested_monthly  Payment_Behaviour  Monthly_Balance  Credit_Score  \n",
            "0                     45309                  3            24582             3  \n",
            "6                     14245                  6             9862             3  \n",
            "8                      1068                  6            41745             2  \n",
            "9                     30346                  1            42460             3  \n",
            "10                    37937                  1            41506             2  \n",
            "\n",
            "[5 rows x 25 columns]\n",
            "Month                          int8\n",
            "Name                          int16\n",
            "Age                           int16\n",
            "Occupation                     int8\n",
            "Annual_Income                 int16\n",
            "Monthly_Inhand_Salary       float64\n",
            "Num_Bank_Accounts             int64\n",
            "Num_Credit_Card               int64\n",
            "Interest_Rate                 int64\n",
            "Num_of_Loan                   int16\n",
            "Type_of_Loan                  int16\n",
            "Delay_from_due_date           int64\n",
            "Num_of_Delayed_Payment        int16\n",
            "Changed_Credit_Limit          int16\n",
            "Num_Credit_Inquiries        float64\n",
            "Credit_Mix                     int8\n",
            "Outstanding_Debt              int16\n",
            "Credit_Utilization_Ratio    float64\n",
            "Credit_History_Age            int16\n",
            "Payment_of_Min_Amount          int8\n",
            "Total_EMI_per_month         float64\n",
            "Amount_invested_monthly       int32\n",
            "Payment_Behaviour              int8\n",
            "Monthly_Balance               int32\n",
            "Credit_Score                  int64\n",
            "dtype: object\n",
            "       Month  Name  Age  Occupation  Annual_Income  Monthly_Inhand_Salary  \\\n",
            "0          3    75  184          12           4604            1824.843333   \n",
            "35206      4  7728  270           2           9343            3806.948333   \n",
            "51387      0  6565  385          14           7964            3047.457500   \n",
            "95414      4  4432  143           3           7478            2729.352817   \n",
            "95415      1  4432  143           3           7478            2729.352817   \n",
            "\n",
            "       Num_Bank_Accounts  Num_Credit_Card  Interest_Rate  Num_of_Loan  ...  \\\n",
            "0                      3                4              3          134  ...   \n",
            "35206                  4                4              6          134  ...   \n",
            "51387                  6                6             16           95  ...   \n",
            "95414                  3                6              9           95  ...   \n",
            "95415                  3                6              9           95  ...   \n",
            "\n",
            "       Credit_Mix  Outstanding_Debt  Credit_Utilization_Ratio  \\\n",
            "0               3             10500                 26.822620   \n",
            "35206           1             10180                 25.584172   \n",
            "51387           2               140                 37.662494   \n",
            "95414           3              1687                 40.415447   \n",
            "95415           2              1687                 35.357393   \n",
            "\n",
            "       Credit_History_Age  Payment_of_Min_Amount  Total_EMI_per_month  \\\n",
            "0                     180                      1            49.574949   \n",
            "35206                 104                      1           118.440209   \n",
            "51387                 228                      2            51.978551   \n",
            "95414                 188                      0           329.836880   \n",
            "95415                 189                      0           329.836880   \n",
            "\n",
            "       Amount_invested_monthly  Payment_Behaviour  Monthly_Balance  \\\n",
            "0                        45309                  3            24582   \n",
            "35206                    32902                  6            52838   \n",
            "51387                    48930                  2            37398   \n",
            "95414                    16533                  3            25367   \n",
            "95415                    18202                  6            28046   \n",
            "\n",
            "       Credit_Score  \n",
            "0                 0  \n",
            "35206             0  \n",
            "51387             0  \n",
            "95414             0  \n",
            "95415             0  \n",
            "\n",
            "[5 rows x 25 columns]\n"
          ]
        }
      ]
    },
    {
      "cell_type": "code",
      "source": [
        "# La entrada es de 25 caracteristicas + un elemento contando con x0\n",
        "input_layer_size  = 26\n",
        "\n",
        "#Etiquetas del Credit_Score (Good=3, Standart=2 y Poor=1)\n",
        "num_labels = 3\n",
        "\n",
        "X_test = data_proc_test.iloc[:, :-1]  # Selecciona todas las filas y todas las columnas excepto la última\n",
        "y_test = data_proc_test.iloc[:, -1]    # Selecciona todas las filas y la última columna\n",
        "\n",
        "y_test[y_test == 3] = 0\n",
        "print(X_test)\n",
        "print(y_test)\n",
        "\n",
        "m = y_test.size"
      ],
      "metadata": {
        "colab": {
          "base_uri": "https://localhost:8080/"
        },
        "id": "CDnxxT5-1RKy",
        "outputId": "7217a03a-7a50-4157-fadc-6f5ed562b522"
      },
      "execution_count": 21,
      "outputs": [
        {
          "output_type": "stream",
          "name": "stdout",
          "text": [
            "       Month  Name  Age  Occupation  Annual_Income  Monthly_Inhand_Salary  \\\n",
            "0          3    75  184          12           4604            1824.843333   \n",
            "35206      4  7728  270           2           9343            3806.948333   \n",
            "51387      0  6565  385          14           7964            3047.457500   \n",
            "95414      4  4432  143           3           7478            2729.352817   \n",
            "95415      1  4432  143           3           7478            2729.352817   \n",
            "...      ...   ...  ...         ...            ...                    ...   \n",
            "72508      7  4790  417           5           7639            2999.899167   \n",
            "72505      2  4790  428           5           7639            2999.899167   \n",
            "72504      3  4790  417           5           7639            2999.899167   \n",
            "72519      1  6911  567           3           6610            2273.189167   \n",
            "93082      6  6724  369          14           9577            4021.730000   \n",
            "\n",
            "       Num_Bank_Accounts  Num_Credit_Card  Interest_Rate  Num_of_Loan  ...  \\\n",
            "0                      3                4              3          134  ...   \n",
            "35206                  4                4              6          134  ...   \n",
            "51387                  6                6             16           95  ...   \n",
            "95414                  3                6              9           95  ...   \n",
            "95415                  3                6              9           95  ...   \n",
            "...                  ...              ...            ...          ...  ...   \n",
            "72508                  8                3             20          117  ...   \n",
            "72505                  8                3             20          117  ...   \n",
            "72504                  8                3             20          117  ...   \n",
            "72519                  5              662              7          117  ...   \n",
            "93082                  8                7             34          231  ...   \n",
            "\n",
            "       Num_Credit_Inquiries  Credit_Mix  Outstanding_Debt  \\\n",
            "0                       4.0           3             10500   \n",
            "35206                   0.0           1             10180   \n",
            "51387                   0.0           2               140   \n",
            "95414                   4.0           3              1687   \n",
            "95415                   4.0           2              1687   \n",
            "...                     ...         ...               ...   \n",
            "72508                   1.0           2              8591   \n",
            "72505                   1.0           2              8591   \n",
            "72504                   1.0           2              8591   \n",
            "72519                   5.0           1             11144   \n",
            "93082                  10.0           0              6383   \n",
            "\n",
            "       Credit_Utilization_Ratio  Credit_History_Age  Payment_of_Min_Amount  \\\n",
            "0                     26.822620                 180                      1   \n",
            "35206                 25.584172                 104                      1   \n",
            "51387                 37.662494                 228                      2   \n",
            "95414                 40.415447                 188                      0   \n",
            "95415                 35.357393                 189                      0   \n",
            "...                         ...                 ...                    ...   \n",
            "72508                 32.331534                  94                      1   \n",
            "72505                 24.596722                  91                      1   \n",
            "72504                 27.770413                  90                      1   \n",
            "72519                 30.166381                 217                      1   \n",
            "93082                 32.985966                 151                      2   \n",
            "\n",
            "       Total_EMI_per_month  Amount_invested_monthly  Payment_Behaviour  \\\n",
            "0                49.574949                    45309                  3   \n",
            "35206           118.440209                    32902                  6   \n",
            "51387            51.978551                    48930                  2   \n",
            "95414           329.836880                    16533                  3   \n",
            "95415           329.836880                    18202                  6   \n",
            "...                    ...                      ...                ...   \n",
            "72508            65.812739                    21364                  1   \n",
            "72505            65.812739                    25288                  6   \n",
            "72504            65.812739                    22826                  0   \n",
            "72519            48.801440                    21796                  6   \n",
            "93082           272.098932                    23467                  3   \n",
            "\n",
            "       Monthly_Balance  \n",
            "0                24582  \n",
            "35206            52838  \n",
            "51387            37398  \n",
            "95414            25367  \n",
            "95415            28046  \n",
            "...                ...  \n",
            "72508            40425  \n",
            "72505             6393  \n",
            "72504            40312  \n",
            "72519             6093  \n",
            "93082             1475  \n",
            "\n",
            "[53049 rows x 24 columns]\n",
            "0        0\n",
            "35206    0\n",
            "51387    0\n",
            "95414    0\n",
            "95415    0\n",
            "        ..\n",
            "72508    2\n",
            "72505    2\n",
            "72504    2\n",
            "72519    2\n",
            "93082    2\n",
            "Name: Credit_Score, Length: 53049, dtype: int64\n"
          ]
        },
        {
          "output_type": "stream",
          "name": "stderr",
          "text": [
            "<ipython-input-21-fda953f55751>:10: SettingWithCopyWarning: \n",
            "A value is trying to be set on a copy of a slice from a DataFrame\n",
            "\n",
            "See the caveats in the documentation: https://pandas.pydata.org/pandas-docs/stable/user_guide/indexing.html#returning-a-view-versus-a-copy\n",
            "  y_test[y_test == 3] = 0\n"
          ]
        }
      ]
    },
    {
      "cell_type": "code",
      "source": [
        "# Imprimir la forma de X_test\n",
        "print(X_test.shape)\n",
        "\n",
        "#Normalizamos\n",
        "X_norm, mu, sigma = featureNormalize(X_test)\n",
        "\n",
        "# Configurar la matriz adecuadamente, y agregar una columna de unos que corresponde al termino de intercepción.\n",
        "m, n = X_test.shape\n",
        "X_test = X_norm\n",
        "# X = np.concatenate([np.ones((m, 1)), X], axis=1)\n",
        "\n",
        "# Realizar predicciones en todo el conjunto de datos X_test\n",
        "pred = predictOneVsAll(all_theta, X_test)\n",
        "\n",
        "# Calcular y mostrar la precisión del conjunto de prueba\n",
        "print('Precisión del conjunto de prueba: {:.2f}%'.format(np.mean(pred == y_test) * 100))\n",
        "\n",
        "# Imprimir los primeros 10 valores predichos y las etiquetas originales correspondientes del conjunto de prueba\n",
        "print(\"Predicciones para los primeros 10 ejemplos:\", pred[:10])\n",
        "print(\"Etiquetas originales para los primeros 10 ejemplos:\", y_test[:10])\n",
        "\n"
      ],
      "metadata": {
        "colab": {
          "base_uri": "https://localhost:8080/"
        },
        "id": "WTovWHyC2G20",
        "outputId": "6d4a2117-ff1a-40cc-b64f-e4723bbbda88"
      },
      "execution_count": 22,
      "outputs": [
        {
          "output_type": "stream",
          "name": "stdout",
          "text": [
            "(53049, 24)\n",
            "Precisión del conjunto de prueba: 58.94%\n",
            "Predicciones para los primeros 10 ejemplos: [2 2 2 2 2 2 2 2 2 2]\n",
            "Etiquetas originales para los primeros 10 ejemplos: 0        0\n",
            "35206    0\n",
            "51387    0\n",
            "95414    0\n",
            "95415    0\n",
            "95416    0\n",
            "95418    0\n",
            "35201    0\n",
            "95420    0\n",
            "35202    0\n",
            "Name: Credit_Score, dtype: int64\n"
          ]
        }
      ]
    },
    {
      "cell_type": "markdown",
      "source": [
        "Una precisión del 58.94% en un problema de clasificación de tres clases no es un resultado gratificante. Hay algunas conclusiones y consideraciones en el metodo realizado que podemos mencionar:\n",
        "\n",
        "--Se realizaron varios pasos de preprocesamiento de datos, incluyendo la\n",
        "eliminación de columnas irrelevantes, manejo de valores faltantes y conversión de variables categóricas a numéricas.\n",
        "La normalización de características también se llevó a cabo para asegurar que todas las características tuvieran un rango similar de valores, lo que puede ayudar a mejorar la convergencia del algoritmo de optimización.\n",
        "\n",
        "--Probe cambiando el numero de iteraciones en 50, 100, 1000\n",
        "--Probe cambiando el valor de theta a 0.01 o a 1\n",
        " en ambos casos no se consiguio una mejora o resultado diferente.\n",
        "\n",
        " Podriamos a llegar a concluir que los datos en el dataset no contienen una relacion que ayuden a realizar un modelo mas preciso."
      ],
      "metadata": {
        "id": "F5_1UJ5U64mB"
      }
    }
  ],
  "metadata": {
    "kernelspec": {
      "display_name": "Python 3",
      "language": "python",
      "name": "python3"
    },
    "language_info": {
      "codemirror_mode": {
        "name": "ipython",
        "version": 3
      },
      "file_extension": ".py",
      "mimetype": "text/x-python",
      "name": "python",
      "nbconvert_exporter": "python",
      "pygments_lexer": "ipython3",
      "version": "3.8.5"
    },
    "colab": {
      "provenance": []
    }
  },
  "nbformat": 4,
  "nbformat_minor": 0
}